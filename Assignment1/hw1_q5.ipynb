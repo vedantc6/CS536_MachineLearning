{
 "cells": [
  {
   "cell_type": "code",
   "execution_count": 1,
   "metadata": {},
   "outputs": [
    {
     "name": "stdout",
     "output_type": "stream",
     "text": [
      "Data has 1000 rows and 100 columns\n"
     ]
    }
   ],
   "source": [
    "'''\n",
    "Experimentally verify your computations in the following way: Taking n = 100 and L = 10,\n",
    "– For j = 1, . . . , 1000:\n",
    "– Simulate X_i^j, . . . , X_n^j and compute values for Lˆj_MOM and Lˆj_MLE\n",
    "– For n = 100, L = 10, simulate X_1, . . . , X_n, and compute values for Lˆ_MOM and Lˆ_\n",
    "MLE.\n",
    "– Estimate the mean squared error for each population of estimator values.\n",
    "– How do these estimated MSEs compare to your theoretical MSEs?\n",
    "'''\n",
    "# Numpy has been imported to carry out basic arithmetic operations\n",
    "import numpy as np\n",
    "\n",
    "# Defining the global variables: n - number of features, L - uniform distribution parameter, m - samples\n",
    "n = 100\n",
    "L = 10\n",
    "m = 1000\n",
    "\n",
    "# Making the dataset\n",
    "data = []\n",
    "for i in range(m):\n",
    "    data.append(np.random.uniform(0, L, n))\n",
    "    \n",
    "print(\"Data has {} rows and {} columns\".format(len(data), len(data[0])))"
   ]
  },
  {
   "cell_type": "code",
   "execution_count": 2,
   "metadata": {},
   "outputs": [
    {
     "name": "stdout",
     "output_type": "stream",
     "text": [
      "Estimated m.o.m. parameter is of size 1000, Estimated m.l.e. paramter is of size 1000\n"
     ]
    }
   ],
   "source": [
    "# Creating estimated parameter vectors\n",
    "l_mom_vec = []\n",
    "l_mle_vec = []\n",
    "\n",
    "# Storing the estimated parameter values\n",
    "for i in range(len(data)):\n",
    "    l_mom_vec.append(2*np.mean(data[i]))\n",
    "    l_mle_vec.append(max(data[i]))\n",
    "\n",
    "print(\"Estimated m.o.m. parameter is of size {}, Estimated m.l.e. paramter is of size {}\".format(len(l_mom_vec), len(l_mle_vec)))"
   ]
  },
  {
   "cell_type": "code",
   "execution_count": 3,
   "metadata": {},
   "outputs": [
    {
     "name": "stdout",
     "output_type": "stream",
     "text": [
      "Estimated M.S.E. values from m.o.m. parameter is 0.326, and m.l.e. parameter is 0.020\n"
     ]
    }
   ],
   "source": [
    "# Estimating M.S.E. through estimated parameters\n",
    "estimated_mse_mom, estimated_mse_mle = 0, 0\n",
    "\n",
    "for est_mean_mom, est_mean_mle in zip(l_mom_vec, l_mle_vec):\n",
    "    estimated_mse_mom += (est_mean_mom - L)**2\n",
    "    estimated_mse_mle += (est_mean_mle - L)**2\n",
    "\n",
    "estimated_mse_mom = estimated_mse_mom/m\n",
    "estimated_mse_mle = estimated_mse_mle/m\n",
    "\n",
    "print(\"Estimated M.S.E. values from m.o.m. parameter is {:.3f}, and m.l.e. parameter is {:.3f}\".format(estimated_mse_mom, estimated_mse_mle))"
   ]
  },
  {
   "cell_type": "code",
   "execution_count": 4,
   "metadata": {},
   "outputs": [
    {
     "name": "stdout",
     "output_type": "stream",
     "text": [
      "True M.S.E. from m.o.m. estimation: 0.333, m.l.e. estimation: 0.019\n",
      "Difference between true and estimated M.S.E. with m.o.m. is 0.008\n",
      "Difference between true and estimated M.S.E. with m.l.e. is -0.000\n"
     ]
    }
   ],
   "source": [
    "# From Q4 of assignment, we know the true values of MSE(l_mom) and MSE(l_mle). Let us see the difference\n",
    "true_mse_mom = (L**2)/(3*n)\n",
    "true_mse_mle = (2*(L**2))/((n+2)*(n+1))\n",
    "\n",
    "print(\"True M.S.E. from m.o.m. estimation: {:.3f}, m.l.e. estimation: {:.3f}\".format(true_mse_mom, true_mse_mle))\n",
    "print(\"Difference between true and estimated M.S.E. with m.o.m. is {:.3f}\".format(true_mse_mom - estimated_mse_mom))\n",
    "print(\"Difference between true and estimated M.S.E. with m.l.e. is {:.3f}\".format(true_mse_mle - estimated_mse_mle))"
   ]
  },
  {
   "cell_type": "code",
   "execution_count": null,
   "metadata": {},
   "outputs": [],
   "source": []
  }
 ],
 "metadata": {
  "kernelspec": {
   "display_name": "Python 3",
   "language": "python",
   "name": "python3"
  },
  "language_info": {
   "codemirror_mode": {
    "name": "ipython",
    "version": 3
   },
   "file_extension": ".py",
   "mimetype": "text/x-python",
   "name": "python",
   "nbconvert_exporter": "python",
   "pygments_lexer": "ipython3",
   "version": "3.7.1"
  }
 },
 "nbformat": 4,
 "nbformat_minor": 2
}
