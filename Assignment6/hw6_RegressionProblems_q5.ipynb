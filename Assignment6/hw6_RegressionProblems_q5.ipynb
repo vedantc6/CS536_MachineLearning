{
 "cells": [
  {
   "cell_type": "markdown",
   "metadata": {},
   "source": [
    "### Question 5 from Assignment: RegressionProblems\n",
    "#### Done by - Vedant Choudhary, vc389\n"
   ]
  },
  {
   "cell_type": "code",
   "execution_count": 40,
   "metadata": {},
   "outputs": [],
   "source": [
    "import numpy as np\n",
    "import matplotlib.pyplot as plt\n",
    "from tqdm import tqdm\n",
    "from math import sqrt"
   ]
  },
  {
   "cell_type": "code",
   "execution_count": 41,
   "metadata": {},
   "outputs": [],
   "source": [
    "# Global variables \n",
    "m, w, b, sigma_square = 200, 1, 5, 0.1\n",
    "\n",
    "# Creating data\n",
    "def create_data(m, w, b, sigma_square):\n",
    "    x = [0]*m\n",
    "    x_minus = [0]*m\n",
    "    y = [0]*m\n",
    "\n",
    "    for i in range(m):\n",
    "        x[i] = np.random.uniform(low=100, high=102)\n",
    "        x_minus[i] = x[i] - 101\n",
    "        y[i] = x[i]*w + b + np.random.normal(loc=0, scale=sqrt(sigma_square))\n",
    "        \n",
    "    return x, y, x_minus"
   ]
  },
  {
   "cell_type": "code",
   "execution_count": 42,
   "metadata": {},
   "outputs": [],
   "source": [
    "# Plotting x and y data points\n",
    "def plot(x, y):\n",
    "    fig = plt.figure(figsize=(8,6))\n",
    "    plt.scatter(x, y)\n",
    "    plt.title(\"Dataset\")\n",
    "    plt.xlabel(\"X\")\n",
    "    plt.ylabel(\"Y\")\n",
    "    plt.show()\n",
    "    \n",
    "def plot_line(x, w, b):\n",
    "    temp = np.linspace(min(x), max(x), 100)\n",
    "    temp_y = [temp[i]*w + b for i in range(len(temp))]\n",
    "    fig = plt.figure(figsize=(8,6))\n",
    "    plt.scatter(x, y)\n",
    "    plt.plot(temp, temp_y, color='g')\n",
    "    plt.title(\"Predicted Line\")\n",
    "    plt.xlabel(\"X\")\n",
    "    plt.ylabel(\"Y\")\n",
    "    plt.show()"
   ]
  },
  {
   "cell_type": "code",
   "execution_count": 43,
   "metadata": {},
   "outputs": [
    {
     "data": {
      "image/png": "[encoded data removed]",
      "text/plain": [
       "<Figure size 576x432 with 1 Axes>"
      ]
     },
     "metadata": {
      "needs_background": "light"
     },
     "output_type": "display_data"
    }
   ],
   "source": [
    "x, y, x_minus = create_data(m, w, b, sigma_square)\n",
    "\n",
    "plot(x, y)"
   ]
  },
  {
   "cell_type": "code",
   "execution_count": 44,
   "metadata": {},
   "outputs": [],
   "source": [
    "def calculate_w_b(x, y, m):\n",
    "    e_xy = [x[i]*y[i] for i in range(m)]\n",
    "    w = (np.mean(e_xy) - np.mean(x)*np.mean(y))/np.var(x)\n",
    "    b = np.mean(y) - w*np.mean(x)\n",
    "    \n",
    "    return w, b"
   ]
  },
  {
   "cell_type": "code",
   "execution_count": 45,
   "metadata": {},
   "outputs": [],
   "source": [
    "def multiple_runs(m):\n",
    "    runs = 1000\n",
    "    expected_w = []\n",
    "    expected_b = []\n",
    "    expected_w_m = []\n",
    "    expected_b_m = []\n",
    "    for i in tqdm(range(runs)):\n",
    "        x, y, x_minus = create_data(m, w, b, sigma_square)\n",
    "        w_pred, b_pred = calculate_w_b(x, y, m)\n",
    "        w_pred_minus, b_pred_minus = calculate_w_b(x_minus, y, m)\n",
    "        expected_w.append(w_pred)\n",
    "        expected_b.append(b_pred)\n",
    "        expected_w_m.append(w_pred_minus)\n",
    "        expected_b_m.append(b_pred_minus)\n",
    "        \n",
    "    print(\"Expected values: Actual: w = {} : b = {}\".format(np.mean(expected_w), np.mean(expected_b)))\n",
    "    print(\"Expected values: Shifted: w = {} : b = {}\".format(np.mean(expected_w_m), np.mean(expected_b_m)))\n",
    "    print(\"Variance values: Actual: w = {} : b = {}\".format(np.var(expected_w), np.var(expected_b)))\n",
    "    print(\"Variance values: Shifted: w = {} : b = {}\".format(np.var(expected_w_m), np.var(expected_b_m)))"
   ]
  },
  {
   "cell_type": "code",
   "execution_count": 46,
   "metadata": {},
   "outputs": [
    {
     "name": "stderr",
     "output_type": "stream",
     "text": [
      "100%|██████████| 1000/1000 [00:01<00:00, 690.31it/s]"
     ]
    },
    {
     "name": "stdout",
     "output_type": "stream",
     "text": [
      "Expected values: Actual: w = 0.9998925919715734 : b = 5.011243287039569\n",
      "Expected values: Shifted: w = 0.9998925919716923 : b = 106.00039507616847\n",
      "Variance values: Actual: w = 0.0015460865723564505 : b = 15.770557625701565\n",
      "Variance values: Shifted: w = 0.0015460865723534495 : b = 0.0005017770669806238\n"
     ]
    },
    {
     "name": "stderr",
     "output_type": "stream",
     "text": [
      "\n"
     ]
    }
   ],
   "source": [
    "multiple_runs(m)"
   ]
  },
  {
   "cell_type": "markdown",
   "metadata": {},
   "source": [
    "This practical example aligns with what has been shown mathematically in the assignment."
   ]
  }
 ],
 "metadata": {
  "kernelspec": {
   "display_name": "Python 3",
   "language": "python",
   "name": "python3"
  },
  "language_info": {
   "codemirror_mode": {
    "name": "ipython",
    "version": 3
   },
   "file_extension": ".py",
   "mimetype": "text/x-python",
   "name": "python",
   "nbconvert_exporter": "python",
   "pygments_lexer": "ipython3",
   "version": "3.7.1"
  }
 },
 "nbformat": 4,
 "nbformat_minor": 2
}
