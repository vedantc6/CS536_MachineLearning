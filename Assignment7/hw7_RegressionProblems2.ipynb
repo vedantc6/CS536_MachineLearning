{
 "cells": [
  {
   "cell_type": "markdown",
   "metadata": {},
   "source": [
    "## CS536: Computing Solutions\n",
    "#### Done by: Vedant Choudhary, vc389"
   ]
  },
  {
   "cell_type": "markdown",
   "metadata": {},
   "source": [
    "### Linear Regression\n",
    "Consider data generated in the following way:\n",
    "\n",
    "- $X_1$ through $X_{10}$ and $X_{16}$ through $X_{20}$ are i.i.d. standard normals\n",
    "- $X_{11} = X_1 + X_2 + N (\\mu=0, \\sigma^2=0.1)$\n",
    "- $X_{12} = X_3 + X_4 + N (\\mu=0, \\sigma^2=0.1)$\n",
    "- $X_{13} = X_4 + X_5 + N (\\mu=0, \\sigma^2=0.1)$\n",
    "- $X_{14} = 0.1X_7 + N (\\mu=0, \\sigma^2=0.1)$\n",
    "- $X_{15} = 2X_2 - 10 +N (\\mu=0, \\sigma^2=0.1)$\n",
    "\n",
    "The values $Y$ are generated according to the following linear model:\n",
    "$$ Y = 10 + \\sum_{i=1}^10{(0.6)^iX_i} $$\n",
    "\n",
    "Note, the variables $X_{11}$ through $X_{20}$ are technically irrelevant"
   ]
  },
  {
   "cell_type": "code",
   "execution_count": 129,
   "metadata": {},
   "outputs": [],
   "source": [
    "# Importing required libraries\n",
    "import numpy as np\n",
    "import pandas as pd\n",
    "import matplotlib.pyplot as plt\n",
    "import pprint\n",
    "from tqdm import tqdm\n",
    "import seaborn as sns\n",
    "from copy import copy\n",
    "\n",
    "%matplotlib inline"
   ]
  },
  {
   "cell_type": "markdown",
   "metadata": {},
   "source": [
    "#### 1. Generate a data set of size m = 1000. Solve the naive least squares regression model for the weights and bias that minimize the training error - how do they compare to the true weights and biases? What did your model conclude as the most significant and least significant features - was it able to prune anything? Simulate a large test set of data and estimate the ‘true’ error of your solved model."
   ]
  },
  {
   "cell_type": "code",
   "execution_count": 130,
   "metadata": {},
   "outputs": [],
   "source": [
    "# Creating X (feature) vectors for the data\n",
    "def create_data(m):\n",
    "    X_1_10 = np.random.normal(0, 1, (m,11))\n",
    "    X_11 = np.asarray([X_1_10[i][1] + X_1_10[i][2] + np.random.normal(loc=0, scale=(0.1)**(0.5)) for i in range(m)]).reshape((-1,1))\n",
    "    X_12 = np.asarray([X_1_10[i][3] + X_1_10[i][4] + np.random.normal(loc=0, scale=(0.1)**(0.5)) for i in range(m)]).reshape((-1,1))\n",
    "    X_13 = np.asarray([X_1_10[i][4] + X_1_10[i][5] + np.random.normal(loc=0, scale=(0.1)**(0.5)) for i in range(m)]).reshape((-1,1))\n",
    "    X_14 = np.asarray([0.1*X_1_10[i][7] + np.random.normal(loc=0, scale=(0.1)**(0.5)) for i in range(m)]).reshape((-1,1))\n",
    "    X_15 = np.asarray([2*X_1_10[i][2] - 10 + np.random.normal(loc=0, scale=(0.1)**(0.5)) for i in range(m)]).reshape((-1,1))\n",
    "    X_16_20 = np.random.normal(0, 1, (m, 5))\n",
    "\n",
    "    return np.concatenate((X_1_10, X_11, X_12, X_13, X_14, X_15, X_16_20), axis=1)\n",
    "\n",
    "# Creating target column for the data\n",
    "def create_y(X, m):\n",
    "    y = []\n",
    "    for i in range(m):\n",
    "        temp = 10\n",
    "        for j in range(1, 11):\n",
    "            temp += ((0.6)**j)*X[i][j] \n",
    "        temp += np.random.normal(loc=0, scale=(0.1)**(0.5))\n",
    "        y.append(temp)\n",
    "        \n",
    "    return np.asarray(y)\n",
    "\n",
    "# Combining all the sub data points into a dataframe\n",
    "def create_dataset(m):\n",
    "    X = create_data(m)\n",
    "    y = create_y(X, m).reshape((m,1))\n",
    "#     print(X)\n",
    "    # Training data is an appended version of X and y arrays\n",
    "    data = pd.DataFrame(np.append(X, y, axis=1), columns=[\"X\" + str(i) for i in range(21)]+['Y'])\n",
    "    data['X0'] = 1\n",
    "    return data"
   ]
  },
  {
   "cell_type": "code",
   "execution_count": 131,
   "metadata": {},
   "outputs": [
    {
     "data": {
      "text/html": [
       "<div>\n",
       "<style scoped>\n",
       "    .dataframe tbody tr th:only-of-type {\n",
       "        vertical-align: middle;\n",
       "    }\n",
       "\n",
       "    .dataframe tbody tr th {\n",
       "        vertical-align: top;\n",
       "    }\n",
       "\n",
       "    .dataframe thead th {\n",
       "        text-align: right;\n",
       "    }\n",
       "</style>\n",
       "<table border=\"1\" class=\"dataframe\">\n",
       "  <thead>\n",
       "    <tr style=\"text-align: right;\">\n",
       "      <th></th>\n",
       "      <th>X0</th>\n",
       "      <th>X1</th>\n",
       "      <th>X2</th>\n",
       "      <th>X3</th>\n",
       "      <th>X4</th>\n",
       "      <th>X5</th>\n",
       "      <th>X6</th>\n",
       "      <th>X7</th>\n",
       "      <th>X8</th>\n",
       "      <th>X9</th>\n",
       "      <th>...</th>\n",
       "      <th>X12</th>\n",
       "      <th>X13</th>\n",
       "      <th>X14</th>\n",
       "      <th>X15</th>\n",
       "      <th>X16</th>\n",
       "      <th>X17</th>\n",
       "      <th>X18</th>\n",
       "      <th>X19</th>\n",
       "      <th>X20</th>\n",
       "      <th>Y</th>\n",
       "    </tr>\n",
       "  </thead>\n",
       "  <tbody>\n",
       "    <tr>\n",
       "      <th>0</th>\n",
       "      <td>1</td>\n",
       "      <td>-0.223183</td>\n",
       "      <td>-0.341442</td>\n",
       "      <td>-0.212054</td>\n",
       "      <td>0.340895</td>\n",
       "      <td>0.015303</td>\n",
       "      <td>-0.480602</td>\n",
       "      <td>1.485098</td>\n",
       "      <td>-0.162625</td>\n",
       "      <td>-1.379016</td>\n",
       "      <td>...</td>\n",
       "      <td>0.310831</td>\n",
       "      <td>0.198638</td>\n",
       "      <td>-0.619940</td>\n",
       "      <td>-10.071366</td>\n",
       "      <td>1.701040</td>\n",
       "      <td>0.219483</td>\n",
       "      <td>1.156263</td>\n",
       "      <td>-1.632300</td>\n",
       "      <td>0.559197</td>\n",
       "      <td>9.464393</td>\n",
       "    </tr>\n",
       "    <tr>\n",
       "      <th>1</th>\n",
       "      <td>1</td>\n",
       "      <td>-0.109276</td>\n",
       "      <td>-0.438618</td>\n",
       "      <td>-1.602431</td>\n",
       "      <td>0.034427</td>\n",
       "      <td>-1.559726</td>\n",
       "      <td>-1.489474</td>\n",
       "      <td>0.170016</td>\n",
       "      <td>-0.563177</td>\n",
       "      <td>0.112229</td>\n",
       "      <td>...</td>\n",
       "      <td>-1.864100</td>\n",
       "      <td>-1.415195</td>\n",
       "      <td>0.175783</td>\n",
       "      <td>-11.354063</td>\n",
       "      <td>0.905196</td>\n",
       "      <td>-0.741765</td>\n",
       "      <td>-0.422968</td>\n",
       "      <td>0.360285</td>\n",
       "      <td>0.255855</td>\n",
       "      <td>9.235210</td>\n",
       "    </tr>\n",
       "    <tr>\n",
       "      <th>2</th>\n",
       "      <td>1</td>\n",
       "      <td>1.230964</td>\n",
       "      <td>0.449564</td>\n",
       "      <td>1.487874</td>\n",
       "      <td>0.119978</td>\n",
       "      <td>-0.827904</td>\n",
       "      <td>-0.612675</td>\n",
       "      <td>2.488065</td>\n",
       "      <td>1.400398</td>\n",
       "      <td>0.042239</td>\n",
       "      <td>...</td>\n",
       "      <td>1.373967</td>\n",
       "      <td>-0.466684</td>\n",
       "      <td>0.301630</td>\n",
       "      <td>-8.780375</td>\n",
       "      <td>-1.357708</td>\n",
       "      <td>-1.380576</td>\n",
       "      <td>-0.953780</td>\n",
       "      <td>0.487521</td>\n",
       "      <td>1.242873</td>\n",
       "      <td>11.395728</td>\n",
       "    </tr>\n",
       "    <tr>\n",
       "      <th>3</th>\n",
       "      <td>1</td>\n",
       "      <td>-0.248755</td>\n",
       "      <td>0.632116</td>\n",
       "      <td>0.866264</td>\n",
       "      <td>-0.958149</td>\n",
       "      <td>-0.044653</td>\n",
       "      <td>0.189362</td>\n",
       "      <td>0.122920</td>\n",
       "      <td>-0.550167</td>\n",
       "      <td>0.138404</td>\n",
       "      <td>...</td>\n",
       "      <td>0.188137</td>\n",
       "      <td>-1.331275</td>\n",
       "      <td>0.171274</td>\n",
       "      <td>-9.020082</td>\n",
       "      <td>-0.317885</td>\n",
       "      <td>1.466300</td>\n",
       "      <td>-0.134466</td>\n",
       "      <td>1.690367</td>\n",
       "      <td>0.271977</td>\n",
       "      <td>10.199439</td>\n",
       "    </tr>\n",
       "    <tr>\n",
       "      <th>4</th>\n",
       "      <td>1</td>\n",
       "      <td>-0.349616</td>\n",
       "      <td>-1.028338</td>\n",
       "      <td>0.051943</td>\n",
       "      <td>1.045018</td>\n",
       "      <td>1.373768</td>\n",
       "      <td>1.713602</td>\n",
       "      <td>0.122428</td>\n",
       "      <td>1.196012</td>\n",
       "      <td>-0.618642</td>\n",
       "      <td>...</td>\n",
       "      <td>1.462870</td>\n",
       "      <td>2.746490</td>\n",
       "      <td>0.449546</td>\n",
       "      <td>-12.674276</td>\n",
       "      <td>1.427981</td>\n",
       "      <td>-1.460374</td>\n",
       "      <td>1.055929</td>\n",
       "      <td>2.863542</td>\n",
       "      <td>-0.225577</td>\n",
       "      <td>9.380523</td>\n",
       "    </tr>\n",
       "  </tbody>\n",
       "</table>\n",
       "<p>5 rows × 22 columns</p>\n",
       "</div>"
      ],
      "text/plain": [
       "   X0        X1        X2        X3        X4        X5        X6        X7  \\\n",
       "0   1 -0.223183 -0.341442 -0.212054  0.340895  0.015303 -0.480602  1.485098   \n",
       "1   1 -0.109276 -0.438618 -1.602431  0.034427 -1.559726 -1.489474  0.170016   \n",
       "2   1  1.230964  0.449564  1.487874  0.119978 -0.827904 -0.612675  2.488065   \n",
       "3   1 -0.248755  0.632116  0.866264 -0.958149 -0.044653  0.189362  0.122920   \n",
       "4   1 -0.349616 -1.028338  0.051943  1.045018  1.373768  1.713602  0.122428   \n",
       "\n",
       "         X8        X9    ...           X12       X13       X14        X15  \\\n",
       "0 -0.162625 -1.379016    ...      0.310831  0.198638 -0.619940 -10.071366   \n",
       "1 -0.563177  0.112229    ...     -1.864100 -1.415195  0.175783 -11.354063   \n",
       "2  1.400398  0.042239    ...      1.373967 -0.466684  0.301630  -8.780375   \n",
       "3 -0.550167  0.138404    ...      0.188137 -1.331275  0.171274  -9.020082   \n",
       "4  1.196012 -0.618642    ...      1.462870  2.746490  0.449546 -12.674276   \n",
       "\n",
       "        X16       X17       X18       X19       X20          Y  \n",
       "0  1.701040  0.219483  1.156263 -1.632300  0.559197   9.464393  \n",
       "1  0.905196 -0.741765 -0.422968  0.360285  0.255855   9.235210  \n",
       "2 -1.357708 -1.380576 -0.953780  0.487521  1.242873  11.395728  \n",
       "3 -0.317885  1.466300 -0.134466  1.690367  0.271977  10.199439  \n",
       "4  1.427981 -1.460374  1.055929  2.863542 -0.225577   9.380523  \n",
       "\n",
       "[5 rows x 22 columns]"
      ]
     },
     "execution_count": 131,
     "metadata": {},
     "output_type": "execute_result"
    }
   ],
   "source": [
    "m = 1000\n",
    "\n",
    "train_data = create_dataset(m)\n",
    "train_data.head()"
   ]
  },
  {
   "cell_type": "code",
   "execution_count": 132,
   "metadata": {},
   "outputs": [],
   "source": [
    "class LinearRegression():\n",
    "    def __init__(self):\n",
    "        pass\n",
    "    \n",
    "    def thresh(self, support, lmbda):\n",
    "        if support > 0.0 and lmbda < abs(support):\n",
    "            return (support - lmbda)\n",
    "        elif support < 0.0 and lmbda < abs(support):\n",
    "            return (support + lmbda)\n",
    "        else:\n",
    "            return 0.0\n",
    "        \n",
    "    def naive_regression(self, X, y):\n",
    "        n_samples, n_features = X.shape\n",
    "        self.w = np.zeros(shape=(n_features,1))\n",
    "        self.w = np.dot(np.dot(np.linalg.inv(np.dot(X.T, X)), X.T), y)\n",
    "        return self.w\n",
    "    \n",
    "    def ridge_regression(self, X, y, lmbda):\n",
    "        n_samples, n_features = X.shape\n",
    "        self.w = np.zeros(shape=(n_features,1))\n",
    "        self.w = np.dot(np.dot(np.linalg.inv(np.dot(X.T, X) + lmbda*np.identity(n_features)), X.T), y)\n",
    "        return self.w\n",
    "    \n",
    "    def lasso_regression(self, X, y, lmbda, iterations):\n",
    "        n_samples, n_features = X.shape\n",
    "        self.w = np.zeros(shape=(n_features,1))\n",
    "        \n",
    "#         Since bias is basically mean of original - predictions\n",
    "        self.w[0] = np.sum(y - np.dot(X[:, 1:], self.w[1:]))/n_samples\n",
    "        \n",
    "        for i in range(iterations):\n",
    "            for j in range(1, n_features):\n",
    "                copy_w = self.w.copy()\n",
    "                copy_w[j] = 0.0\n",
    "                residue = y - np.dot(X, copy_w)\n",
    "                a1 = np.dot(X[:, j], residue)\n",
    "                a2 = lmbda*n_samples\n",
    "                \n",
    "                self.w[j] = self.thresh(a1, a2)/(X[:, j]**2).sum()           \n",
    "        \n",
    "        return self.w\n",
    "        \n",
    "    def predict(self, X, w):\n",
    "        return np.dot(X, w)\n",
    "    \n",
    "    def error_calculation(self, X, y, w):\n",
    "        h_x = self.predict(X, w)\n",
    "        error = 0\n",
    "        for i in range(len(y)):\n",
    "            error += (y[i] - h_x[i])**2\n",
    "\n",
    "        error /= len(y)\n",
    "        return error"
   ]
  },
  {
   "cell_type": "code",
   "execution_count": 133,
   "metadata": {},
   "outputs": [],
   "source": [
    "def plot_comparison(actual, predicted, features):\n",
    "    plt.figure(figsize=(8,6))\n",
    "    data_actual = pd.DataFrame(pd.Series(actual), columns=['weight'])\n",
    "    data_actual['type'] = pd.Series(['actual']*len(actual))\n",
    "    data_actual['feature'] = pd.Series(list(range(features)))\n",
    "    data_actual = data_actual.iloc[1:]\n",
    "    \n",
    "    data_pred = pd.DataFrame(pd.Series(predicted), columns=['weight'])\n",
    "    data_pred['type'] = pd.Series(['pred']*len(predicted))\n",
    "    data_pred['feature'] = pd.Series(list(range(features)))\n",
    "    data_pred = data_pred.iloc[1:]\n",
    "    \n",
    "    data = pd.concat([data_actual, data_pred])\n",
    "\n",
    "    sns.barplot(x=\"feature\", y=\"weight\", hue=\"type\", data=data)"
   ]
  },
  {
   "cell_type": "code",
   "execution_count": 134,
   "metadata": {
    "scrolled": true
   },
   "outputs": [
    {
     "name": "stdout",
     "output_type": "stream",
     "text": [
      "Error:  0.09788375096908075\n",
      "Trained Bias:  [10.39936254]\n"
     ]
    },
    {
     "data": {
      "image/png": "[encoded data removed]",
      "text/plain": [
       "<Figure size 576x432 with 1 Axes>"
      ]
     },
     "metadata": {
      "needs_background": "light"
     },
     "output_type": "display_data"
    }
   ],
   "source": [
    "lin_reg = LinearRegression()\n",
    "X = np.asarray(train_data.iloc[:,:-1])\n",
    "y = np.asarray(train_data.iloc[:,-1:])\n",
    "\n",
    "w_actual = [10]\n",
    "for i in range(1, 21):\n",
    "    if i <= 10:\n",
    "        w_actual.append((0.6)**i)\n",
    "    else:\n",
    "        w_actual.append(0)\n",
    "        \n",
    "w_trained = lin_reg.naive_regression(X, y)\n",
    "features = X.shape[1]\n",
    "\n",
    "# print(w_trained)\n",
    "plot_comparison(w_actual, w_trained.flatten(), features)\n",
    "print(\"Error: \", float(lin_reg.error_calculation(X, y, w_trained)))\n",
    "print(\"Trained Bias: \", w_trained[0])"
   ]
  },
  {
   "cell_type": "markdown",
   "metadata": {},
   "source": [
    "- After training the model on naive least squares regression and comparing the predicted weights and bias with true ones, we see that the predicted weights are in line with the true weights but there is some weight associated to irrelevant variables too. \n",
    "- The bias value has been printed instead of charting, to maintain the y-axis range. Trained bias is also similar to actual bias\n",
    "- This model regards X1 as the most significant and X16 as least significant feature\n",
    "- This naive model has no mechanism to perform pruning of features."
   ]
  },
  {
   "cell_type": "code",
   "execution_count": 135,
   "metadata": {
    "scrolled": true
   },
   "outputs": [
    {
     "name": "stdout",
     "output_type": "stream",
     "text": [
      "True error:  0.10331549595964984\n"
     ]
    }
   ],
   "source": [
    "def estimated_error(w):\n",
    "    estimated_error = 0\n",
    "    for i in (range(10)):\n",
    "        data = create_dataset(10000)\n",
    "        X = np.asarray(data.iloc[:,:-1])\n",
    "        y = np.asarray(data.iloc[:,-1:])\n",
    "        estimated_error += lin_reg.error_calculation(X, y, w)\n",
    "        \n",
    "    return float(estimated_error/10)\n",
    "    \n",
    "estimated_err = estimated_error(w_trained)\n",
    "print(\"True error: \", estimated_err)"
   ]
  },
  {
   "cell_type": "markdown",
   "metadata": {},
   "source": [
    "#### 2. Write a program to take a data set of size m and a parameter λ, and solve for the ridge regression model for that data. Write another program to take the solved model and estimate the true error by evaluating that model on a large test data set. For data sets of size m = 1000, plot estimated true error of the ridge regression model as a function of λ. What is the optimal λ to minimize testing error? What are the weights and biases ridge regression gives at this λ, and how do they compare to the true weights? What did your model conclude as the most significant and least significant features - was it able to prune anything? How does the optimal ridge regression model compare to the naive least squares model?"
   ]
  },
  {
   "cell_type": "code",
   "execution_count": 136,
   "metadata": {
    "scrolled": true
   },
   "outputs": [
    {
     "data": {
      "text/plain": [
       "0.10304444212238675"
      ]
     },
     "execution_count": 136,
     "metadata": {},
     "output_type": "execute_result"
    }
   ],
   "source": [
    "lmbda = 0.01\n",
    "w_lambda = lin_reg.ridge_regression(X, y, lmbda)\n",
    "    \n",
    "estimated_err = estimated_error(w_lambda)\n",
    "estimated_err"
   ]
  },
  {
   "cell_type": "code",
   "execution_count": 138,
   "metadata": {
    "scrolled": false
   },
   "outputs": [
    {
     "name": "stdout",
     "output_type": "stream",
     "text": [
      "0.0\t0.03\t0.06\t0.09\t0.12\t0.15\t0.18\t0.21\t0.24\t0.27\t0.3\t0.33\t0.36\t0.39\t0.42\t0.45\t0.48\t0.51\t0.54\t0.57\t0.6\t0.63\t0.66\t0.69\t0.72\t0.75\t0.78\t0.81\t0.84\t0.87\t0.9\t0.93\t0.96\t0.99\t"
     ]
    },
    {
     "data": {
      "image/png": "[encoded data removed]",
      "text/plain": [
       "<Figure size 720x576 with 1 Axes>"
      ]
     },
     "metadata": {
      "needs_background": "light"
     },
     "output_type": "display_data"
    }
   ],
   "source": [
    "def varying_lambda(m):\n",
    "    lmbda = np.arange(0, 1, 0.03)\n",
    "    estimated_error_list = []\n",
    "    \n",
    "    for i in lmbda:\n",
    "        print(round(i, 2), end='\\t')\n",
    "        error = 0\n",
    "        data = create_dataset(m)\n",
    "        X = np.asarray(data.iloc[:,:-1])\n",
    "        y = np.asarray(data.iloc[:,-1:])\n",
    "        lin_reg = LinearRegression()\n",
    "        w = lin_reg.ridge_regression(X, y, i)\n",
    "        estimated_error_list.append(estimated_error(w))\n",
    "    \n",
    "    plt.figure(figsize=(10,8))\n",
    "    plt.plot(lmbda, estimated_error_list, marker='x')\n",
    "    plt.title(\"True Error w.r.t. lambda\")\n",
    "    plt.xlabel(\"Lambda\")\n",
    "    plt.ylabel(\"True Error\")\n",
    "    plt.show()\n",
    "\n",
    "varying_lambda(1000)"
   ]
  },
  {
   "cell_type": "markdown",
   "metadata": {},
   "source": [
    "As can be seen from the plot, as the value of lambda is increased, the true error of the ridge regression model also increases. For this example, we can see that an optimal lambda value is in the range [0.08, 0.1)"
   ]
  },
  {
   "cell_type": "code",
   "execution_count": 139,
   "metadata": {
    "scrolled": true
   },
   "outputs": [
    {
     "name": "stdout",
     "output_type": "stream",
     "text": [
      "Error:  0.09847570035843019\n"
     ]
    },
    {
     "data": {
      "image/png": "[encoded data removed]",
      "text/plain": [
       "<Figure size 576x432 with 1 Axes>"
      ]
     },
     "metadata": {
      "needs_background": "light"
     },
     "output_type": "display_data"
    }
   ],
   "source": [
    "w_lambda = lin_reg.ridge_regression(X, y, 0.08)\n",
    "    \n",
    "estimated_err = estimated_error(w_lambda)\n",
    "\n",
    "plot_comparison(w_actual, w_lambda.flatten(), features)\n",
    "print(\"Error: \", float(lin_reg.error_calculation(X, y, w_lambda)))"
   ]
  },
  {
   "cell_type": "code",
   "execution_count": 141,
   "metadata": {},
   "outputs": [
    {
     "name": "stdout",
     "output_type": "stream",
     "text": [
      "Weights (Bias at zero index): \n",
      " [[ 9.62390292e+00]\n",
      " [ 5.41622444e-01]\n",
      " [ 3.69909690e-01]\n",
      " [ 2.21950260e-01]\n",
      " [ 1.92036956e-01]\n",
      " [ 9.95898328e-02]\n",
      " [ 4.70618432e-02]\n",
      " [ 4.50264230e-02]\n",
      " [ 1.52463488e-02]\n",
      " [ 1.08180493e-03]\n",
      " [ 1.90302482e-02]\n",
      " [ 5.62007319e-02]\n",
      " [-1.24200773e-02]\n",
      " [-2.38501530e-02]\n",
      " [-2.54662157e-03]\n",
      " [-3.54780096e-02]\n",
      " [-2.44296395e-02]\n",
      " [ 9.59621778e-03]\n",
      " [ 1.67828267e-02]\n",
      " [-1.04992299e-02]\n",
      " [ 1.69407339e-03]]\n"
     ]
    }
   ],
   "source": [
    "print(\"Weights (Bias at zero index): \\n\", w_lambda)"
   ]
  },
  {
   "cell_type": "markdown",
   "metadata": {},
   "source": [
    "- The above plots convey that on using the optimal value of lambda from ridge regression (0.08 in this case), we get weights and bias very similar to the actual weights and bias\n",
    "- The ridge regression model considers X1 to be most significant, while X15 to be the least\n",
    "- I do not believe that ridge was able to prune any variables since they have some weights associated to the features"
   ]
  },
  {
   "cell_type": "markdown",
   "metadata": {},
   "source": [
    "#### 3. Write a program to take a data set of size m and a parameter λ, and solve for the Lasso regression model for that data. For a data set of size m = 1000, show that as λ increases, features are effectively eliminated from the model until all weights are set to zero."
   ]
  },
  {
   "cell_type": "code",
   "execution_count": 144,
   "metadata": {
    "scrolled": true
   },
   "outputs": [
    {
     "name": "stdout",
     "output_type": "stream",
     "text": [
      "0.0\t0.01\t0.02\t0.03\t0.04\t0.05\t0.06\t0.07\t0.08\t0.09\t0.1\t0.11\t0.12\t0.13\t0.14\t0.15\t0.16\t0.17\t0.18\t0.19\t0.2\t0.21\t0.22\t0.23\t0.24\t0.25\t0.26\t0.27\t0.28\t0.29\t0.3\t0.31\t0.32\t0.33\t0.34\t0.35\t0.36\t0.37\t0.38\t0.39\t0.4\t0.41\t0.42\t0.43\t0.44\t0.45\t0.46\t0.47\t0.48\t0.49\t0.5\t0.51\t0.52\t0.53\t0.54\t0.55\t0.56\t0.57\t0.58\t0.59\t0.6\t0.61\t0.62\t0.63\t0.64\t0.65\t0.66\t0.67\t0.68\t0.69\t0.7\t0.71\t0.72\t0.73\t0.74\t0.75\t0.76\t0.77\t0.78\t0.79\t0.8\t0.81\t0.82\t0.83\t0.84\t0.85\t0.86\t0.87\t0.88\t0.89\t0.9\t0.91\t0.92\t0.93\t0.94\t0.95\t0.96\t0.97\t0.98\t0.99\t"
     ]
    },
    {
     "data": {
      "text/plain": [
       "(20, 100)"
      ]
     },
     "execution_count": 144,
     "metadata": {},
     "output_type": "execute_result"
    }
   ],
   "source": [
    "lmbda = np.arange(0, 1.0, 0.01)\n",
    "weights = []\n",
    "lin_reg = LinearRegression()\n",
    "\n",
    "for l in lmbda:\n",
    "    print(round(l,2), end='\\t')\n",
    "    weight = lin_reg.lasso_regression(X, y, l, 100)\n",
    "    weights.append(weight.flatten())\n",
    "    \n",
    "weights_lasso = np.stack(weights).T\n",
    "weights_lasso[1:].shape"
   ]
  },
  {
   "cell_type": "code",
   "execution_count": 149,
   "metadata": {
    "scrolled": true
   },
   "outputs": [
    {
     "data": {
      "image/png": "[encoded data removed]",
      "text/plain": [
       "<Figure size 1440x720 with 1 Axes>"
      ]
     },
     "metadata": {
      "needs_background": "light"
     },
     "output_type": "display_data"
    }
   ],
   "source": [
    "n,_ = weights_lasso[1:].shape\n",
    "plt.figure(figsize = (20,10))\n",
    "\n",
    "for i in range(n):\n",
    "    plt.plot(lmbda, weights_lasso[1:][i], label = train_data.columns[1:][i])\n",
    "\n",
    "# plt.xscale('log')\n",
    "plt.xlabel('$\\\\lambda$')\n",
    "plt.ylabel('Coefficients')\n",
    "plt.title('Lasso Paths')\n",
    "plt.legend()\n",
    "plt.axis('tight')\n",
    "plt.show()"
   ]
  },
  {
   "cell_type": "markdown",
   "metadata": {},
   "source": [
    "- This plot shows that as the value of lambda is increased, it starts pruning more and more variables/features of the dataset.\n",
    "- So, all feature weights tend towards 0 at some value of lambda."
   ]
  },
  {
   "cell_type": "markdown",
   "metadata": {},
   "source": [
    "#### 4. For data sets of size m = 1000, plot estimated true error of the lasso regression model as a function of λ. What is the optimal λ to minimize testing error? What are the weights and biases lasso regression gives at this λ, and how do they compare to the true weights? What did your model conclude as the most significant and least signficiant features - was it able to prune anything? How does the optimal regression model compare tot he naive least squares model?"
   ]
  },
  {
   "cell_type": "code",
   "execution_count": 150,
   "metadata": {},
   "outputs": [
    {
     "name": "stdout",
     "output_type": "stream",
     "text": [
      "0.0\t0.01\t0.02\t0.03\t0.04\t0.05\t0.06\t0.07\t0.08\t0.09\t0.1\t0.11\t0.12\t0.13\t0.14\t0.15\t0.16\t0.17\t0.18\t0.19\t0.2\t0.21\t0.22\t0.23\t0.24\t0.25\t0.26\t0.27\t0.28\t0.29\t0.3\t0.31\t0.32\t0.33\t0.34\t0.35\t0.36\t0.37\t0.38\t0.39\t0.4\t0.41\t0.42\t0.43\t0.44\t0.45\t0.46\t0.47\t0.48\t0.49\t0.5\t0.51\t0.52\t0.53\t0.54\t0.55\t0.56\t0.57\t0.58\t0.59\t0.6\t0.61\t0.62\t0.63\t0.64\t0.65\t0.66\t0.67\t0.68\t0.69\t0.7\t0.71\t0.72\t0.73\t0.74\t0.75\t0.76\t0.77\t0.78\t0.79\t0.8\t0.81\t0.82\t0.83\t0.84\t0.85\t0.86\t0.87\t0.88\t0.89\t0.9\t0.91\t0.92\t0.93\t0.94\t0.95\t0.96\t0.97\t0.98\t0.99\t"
     ]
    },
    {
     "data": {
      "image/png": "[encoded data removed]",
      "text/plain": [
       "<Figure size 720x576 with 1 Axes>"
      ]
     },
     "metadata": {
      "needs_background": "light"
     },
     "output_type": "display_data"
    }
   ],
   "source": [
    "def varying_lambda_lasso(m):\n",
    "    lmbda = np.arange(0, 1, 0.01)\n",
    "    estimated_error_list = []\n",
    "    \n",
    "    for i in lmbda:\n",
    "        print(round(i,2), end=\"\\t\")\n",
    "        error = 0\n",
    "        data = create_dataset(m)\n",
    "        X = np.asarray(data.iloc[:,:-1])\n",
    "        y = np.asarray(data.iloc[:,-1:])\n",
    "        lin_reg = LinearRegression()\n",
    "        w = lin_reg.lasso_regression(X, y, i, 100)\n",
    "        estimated_error_list.append(estimated_error(w))\n",
    "    \n",
    "    plt.figure(figsize=(10,8))\n",
    "    plt.plot(lmbda, estimated_error_list, marker='x')\n",
    "    plt.title(\"True Error w.r.t. lambda\")\n",
    "    plt.xlabel(\"Lambda\")\n",
    "    plt.ylabel(\"True Error\")\n",
    "    plt.show()\n",
    "\n",
    "varying_lambda_lasso(1000)"
   ]
  },
  {
   "cell_type": "markdown",
   "metadata": {},
   "source": [
    "The minimum is occuring in the range [0, 0.01], so let us calculate the optimal lasso regression bias and weights by having a value of lambda between the range."
   ]
  },
  {
   "cell_type": "code",
   "execution_count": 151,
   "metadata": {},
   "outputs": [
    {
     "name": "stdout",
     "output_type": "stream",
     "text": [
      "Error:  0.09813363129991692\n"
     ]
    },
    {
     "data": {
      "image/png": "[encoded data removed]",
      "text/plain": [
       "<Figure size 576x432 with 1 Axes>"
      ]
     },
     "metadata": {
      "needs_background": "light"
     },
     "output_type": "display_data"
    }
   ],
   "source": [
    "optimal_weight = lin_reg.lasso_regression(X, y, 0.001, 1000)\n",
    "plot_comparison(w_actual, optimal_weight.flatten(), features)\n",
    "print(\"Error: \", float(lin_reg.error_calculation(X, y, optimal_weight)))"
   ]
  },
  {
   "cell_type": "markdown",
   "metadata": {},
   "source": [
    "- Optimal Lasso weights are almost equal to actual weights. However, the model makes feature X9 insignificant.\n",
    "- The model is mostly recognizing the variables from X11 to X20 to be insignificant, with having X12, X13, X14 as 0\n",
    "- The model prunes some of the insignificant weights\n",
    "- The model is working almost like the naive regression model"
   ]
  },
  {
   "cell_type": "markdown",
   "metadata": {},
   "source": [
    "#### 5. Consider using lasso as a means for feature selection: on a data set of size m = 1000, run lasso regression with the optimal regularization constant from the previous problems, and identify the set of relevant features; then run ridge regression to fit a model to only those features. How can you determine a good ridge regression regularization constant to use here? How does the resulting lasso-ridge combination model compare to the naive least squares model? What features does it conclude are significant or relatively insignificant? How do the testing errors of these two models compare?"
   ]
  },
  {
   "cell_type": "code",
   "execution_count": 152,
   "metadata": {},
   "outputs": [
    {
     "name": "stdout",
     "output_type": "stream",
     "text": [
      "Error:  0.09512039687787044\n"
     ]
    },
    {
     "data": {
      "image/png": "[encoded data removed]",
      "text/plain": [
       "<Figure size 576x432 with 1 Axes>"
      ]
     },
     "metadata": {
      "needs_background": "light"
     },
     "output_type": "display_data"
    }
   ],
   "source": [
    "new_data = create_dataset(1000)\n",
    "linreg = LinearRegression()\n",
    "X = np.asarray(new_data.iloc[:,:-1])\n",
    "y = np.asarray(new_data.iloc[:,-1:])\n",
    "new_weight = linreg.lasso_regression(X, y, 0.001, 100)\n",
    "\n",
    "plot_comparison(w_actual, new_weight.flatten(), features)\n",
    "print(\"Error: \", float(lin_reg.error_calculation(X, y, new_weight)))"
   ]
  },
  {
   "cell_type": "code",
   "execution_count": 153,
   "metadata": {},
   "outputs": [
    {
     "data": {
      "text/plain": [
       "{'X0': array([10.01100229]),\n",
       " 'X1': array([0.57957789]),\n",
       " 'X2': array([0.32560637]),\n",
       " 'X3': array([0.18779209]),\n",
       " 'X4': array([0.10552412]),\n",
       " 'X5': array([0.06563217]),\n",
       " 'X6': array([0.02508582]),\n",
       " 'X7': array([0.00576315]),\n",
       " 'X8': array([0.02015043]),\n",
       " 'X9': array([-0.00747178]),\n",
       " 'X10': array([0.02843073]),\n",
       " 'X11': array([0.03459142]),\n",
       " 'X12': array([0.02009376]),\n",
       " 'X13': array([0.01177798]),\n",
       " 'X14': array([0.]),\n",
       " 'X15': array([0.00126216]),\n",
       " 'X16': array([0.0018779]),\n",
       " 'X17': array([-0.00134243]),\n",
       " 'X18': array([0.]),\n",
       " 'X19': array([-0.02123867]),\n",
       " 'X20': array([-0.00595181])}"
      ]
     },
     "execution_count": 153,
     "metadata": {},
     "output_type": "execute_result"
    }
   ],
   "source": [
    "feature_weights = dict(zip(*(new_data.drop(['Y'], 1).columns, new_weight)))\n",
    "feature_weights"
   ]
  },
  {
   "cell_type": "markdown",
   "metadata": {},
   "source": [
    "The relevant features are features with positive weights. So, according to the above output, the relevant features are:\n",
    "[X1, ...X8, X10,..., X13, X15, X16]\n",
    "\n",
    "Even though the weights for insignificant values is low, we'll be considering them since they are positive"
   ]
  },
  {
   "cell_type": "code",
   "execution_count": 154,
   "metadata": {
    "scrolled": true
   },
   "outputs": [
    {
     "data": {
      "text/html": [
       "<div>\n",
       "<style scoped>\n",
       "    .dataframe tbody tr th:only-of-type {\n",
       "        vertical-align: middle;\n",
       "    }\n",
       "\n",
       "    .dataframe tbody tr th {\n",
       "        vertical-align: top;\n",
       "    }\n",
       "\n",
       "    .dataframe thead th {\n",
       "        text-align: right;\n",
       "    }\n",
       "</style>\n",
       "<table border=\"1\" class=\"dataframe\">\n",
       "  <thead>\n",
       "    <tr style=\"text-align: right;\">\n",
       "      <th></th>\n",
       "      <th>X1</th>\n",
       "      <th>X2</th>\n",
       "      <th>X3</th>\n",
       "      <th>X4</th>\n",
       "      <th>X5</th>\n",
       "      <th>X6</th>\n",
       "      <th>X7</th>\n",
       "      <th>X8</th>\n",
       "      <th>X10</th>\n",
       "      <th>X11</th>\n",
       "      <th>X12</th>\n",
       "      <th>X13</th>\n",
       "      <th>X15</th>\n",
       "      <th>X16</th>\n",
       "      <th>Y</th>\n",
       "    </tr>\n",
       "  </thead>\n",
       "  <tbody>\n",
       "    <tr>\n",
       "      <th>0</th>\n",
       "      <td>-0.759937</td>\n",
       "      <td>-1.865792</td>\n",
       "      <td>-1.535536</td>\n",
       "      <td>0.781853</td>\n",
       "      <td>-1.622637</td>\n",
       "      <td>0.660121</td>\n",
       "      <td>-0.860733</td>\n",
       "      <td>-1.183100</td>\n",
       "      <td>-0.185960</td>\n",
       "      <td>-2.590359</td>\n",
       "      <td>-0.676306</td>\n",
       "      <td>-0.546848</td>\n",
       "      <td>-13.625341</td>\n",
       "      <td>-1.892044</td>\n",
       "      <td>8.507691</td>\n",
       "    </tr>\n",
       "    <tr>\n",
       "      <th>1</th>\n",
       "      <td>0.791694</td>\n",
       "      <td>1.862048</td>\n",
       "      <td>-0.367749</td>\n",
       "      <td>-0.028321</td>\n",
       "      <td>-0.175219</td>\n",
       "      <td>1.209357</td>\n",
       "      <td>-0.500735</td>\n",
       "      <td>0.675537</td>\n",
       "      <td>1.135193</td>\n",
       "      <td>2.458988</td>\n",
       "      <td>-0.448314</td>\n",
       "      <td>-0.374797</td>\n",
       "      <td>-6.664710</td>\n",
       "      <td>0.509057</td>\n",
       "      <td>11.656306</td>\n",
       "    </tr>\n",
       "    <tr>\n",
       "      <th>2</th>\n",
       "      <td>0.371409</td>\n",
       "      <td>-0.885041</td>\n",
       "      <td>0.790290</td>\n",
       "      <td>-0.816246</td>\n",
       "      <td>-0.126864</td>\n",
       "      <td>-0.056052</td>\n",
       "      <td>-0.021161</td>\n",
       "      <td>-0.110605</td>\n",
       "      <td>-1.033657</td>\n",
       "      <td>-0.884169</td>\n",
       "      <td>-0.515417</td>\n",
       "      <td>-0.964315</td>\n",
       "      <td>-11.768042</td>\n",
       "      <td>-0.880033</td>\n",
       "      <td>9.346974</td>\n",
       "    </tr>\n",
       "    <tr>\n",
       "      <th>3</th>\n",
       "      <td>-1.449173</td>\n",
       "      <td>0.645438</td>\n",
       "      <td>-0.483889</td>\n",
       "      <td>0.415232</td>\n",
       "      <td>0.854699</td>\n",
       "      <td>0.521937</td>\n",
       "      <td>-0.250297</td>\n",
       "      <td>-1.589247</td>\n",
       "      <td>1.015546</td>\n",
       "      <td>-0.857674</td>\n",
       "      <td>-0.120994</td>\n",
       "      <td>1.788627</td>\n",
       "      <td>-8.607964</td>\n",
       "      <td>0.845954</td>\n",
       "      <td>9.151327</td>\n",
       "    </tr>\n",
       "    <tr>\n",
       "      <th>4</th>\n",
       "      <td>0.865251</td>\n",
       "      <td>1.773843</td>\n",
       "      <td>0.287900</td>\n",
       "      <td>1.716583</td>\n",
       "      <td>0.553109</td>\n",
       "      <td>-1.095341</td>\n",
       "      <td>0.678118</td>\n",
       "      <td>0.268131</td>\n",
       "      <td>-0.545859</td>\n",
       "      <td>2.818611</td>\n",
       "      <td>2.414920</td>\n",
       "      <td>2.498909</td>\n",
       "      <td>-6.237809</td>\n",
       "      <td>0.832851</td>\n",
       "      <td>11.273237</td>\n",
       "    </tr>\n",
       "  </tbody>\n",
       "</table>\n",
       "</div>"
      ],
      "text/plain": [
       "         X1        X2        X3        X4        X5        X6        X7  \\\n",
       "0 -0.759937 -1.865792 -1.535536  0.781853 -1.622637  0.660121 -0.860733   \n",
       "1  0.791694  1.862048 -0.367749 -0.028321 -0.175219  1.209357 -0.500735   \n",
       "2  0.371409 -0.885041  0.790290 -0.816246 -0.126864 -0.056052 -0.021161   \n",
       "3 -1.449173  0.645438 -0.483889  0.415232  0.854699  0.521937 -0.250297   \n",
       "4  0.865251  1.773843  0.287900  1.716583  0.553109 -1.095341  0.678118   \n",
       "\n",
       "         X8       X10       X11       X12       X13        X15       X16  \\\n",
       "0 -1.183100 -0.185960 -2.590359 -0.676306 -0.546848 -13.625341 -1.892044   \n",
       "1  0.675537  1.135193  2.458988 -0.448314 -0.374797  -6.664710  0.509057   \n",
       "2 -0.110605 -1.033657 -0.884169 -0.515417 -0.964315 -11.768042 -0.880033   \n",
       "3 -1.589247  1.015546 -0.857674 -0.120994  1.788627  -8.607964  0.845954   \n",
       "4  0.268131 -0.545859  2.818611  2.414920  2.498909  -6.237809  0.832851   \n",
       "\n",
       "           Y  \n",
       "0   8.507691  \n",
       "1  11.656306  \n",
       "2   9.346974  \n",
       "3   9.151327  \n",
       "4  11.273237  "
      ]
     },
     "execution_count": 154,
     "metadata": {},
     "output_type": "execute_result"
    }
   ],
   "source": [
    "relevant_features = [\"X1\", \"X2\", \"X3\", \"X4\", \"X5\", \"X6\", \"X7\", \"X8\", \"X10\", \"X11\", \"X12\", \"X13\", \"X15\", \"X16\", \"Y\"]\n",
    "rel = [a[1:] for a in relevant_features[:-1]]\n",
    "trim_data = new_data[relevant_features]\n",
    "trim_data.head()"
   ]
  },
  {
   "cell_type": "code",
   "execution_count": 155,
   "metadata": {},
   "outputs": [],
   "source": [
    "X_trim = np.asarray(trim_data.iloc[:,:-1])\n",
    "y_trim = np.asarray(trim_data.iloc[:,-1:])\n",
    "\n",
    "trim_actual_weights = []\n",
    "\n",
    "for i in range(1, 21):\n",
    "    if str(i) in rel:\n",
    "        trim_actual_weights.append(w_actual[i])\n",
    "    else:\n",
    "        trim_actual_weights.append(0)"
   ]
  },
  {
   "cell_type": "code",
   "execution_count": 156,
   "metadata": {
    "scrolled": true
   },
   "outputs": [
    {
     "data": {
      "image/png": "[encoded data removed]",
      "text/plain": [
       "<Figure size 576x432 with 1 Axes>"
      ]
     },
     "metadata": {
      "needs_background": "light"
     },
     "output_type": "display_data"
    }
   ],
   "source": [
    "new_ridge = LinearRegression()\n",
    "w_lambda_2 = new_ridge.ridge_regression(X_trim, y_trim, 0.001)\n",
    "\n",
    "plot_comparison(trim_actual_weights, w_lambda_2.flatten(), features)"
   ]
  },
  {
   "cell_type": "code",
   "execution_count": 157,
   "metadata": {},
   "outputs": [
    {
     "data": {
      "image/png": "[encoded data removed]",
      "text/plain": [
       "<Figure size 576x432 with 1 Axes>"
      ]
     },
     "metadata": {
      "needs_background": "light"
     },
     "output_type": "display_data"
    }
   ],
   "source": [
    "w_lambda_2 = new_ridge.ridge_regression(X_trim, y_trim, 0.01)\n",
    "\n",
    "plot_comparison(trim_actual_weights, w_lambda_2.flatten(), features)"
   ]
  },
  {
   "cell_type": "code",
   "execution_count": 161,
   "metadata": {},
   "outputs": [
    {
     "data": {
      "image/png": "[encoded data removed]",
      "text/plain": [
       "<Figure size 576x432 with 1 Axes>"
      ]
     },
     "metadata": {
      "needs_background": "light"
     },
     "output_type": "display_data"
    }
   ],
   "source": [
    "w_lambda_2 = new_ridge.ridge_regression(X_trim, y_trim, 0.1)\n",
    "\n",
    "plot_comparison(trim_actual_weights, w_lambda_2.flatten(), features)"
   ]
  },
  {
   "cell_type": "code",
   "execution_count": 162,
   "metadata": {},
   "outputs": [
    {
     "data": {
      "image/png": "[encoded data removed]",
      "text/plain": [
       "<Figure size 576x432 with 1 Axes>"
      ]
     },
     "metadata": {
      "needs_background": "light"
     },
     "output_type": "display_data"
    }
   ],
   "source": [
    "w_lambda_2 = new_ridge.ridge_regression(X_trim, y_trim, 0.3)\n",
    "\n",
    "plot_comparison(trim_actual_weights, w_lambda_2.flatten(), features)"
   ]
  },
  {
   "cell_type": "code",
   "execution_count": 163,
   "metadata": {},
   "outputs": [
    {
     "data": {
      "image/png": "[encoded data removed]",
      "text/plain": [
       "<Figure size 576x432 with 1 Axes>"
      ]
     },
     "metadata": {
      "needs_background": "light"
     },
     "output_type": "display_data"
    }
   ],
   "source": [
    "w_lambda_2 = new_ridge.ridge_regression(X_trim, y_trim, 0.7)\n",
    "\n",
    "plot_comparison(trim_actual_weights, w_lambda_2.flatten(), features)"
   ]
  },
  {
   "cell_type": "markdown",
   "metadata": {},
   "source": [
    "- We see that as the value of $\\lambda$ increases, the insignifcant features are eliminated. Let us try to calculate true error\n",
    "- Features after X12 have been considered as insignificant by this model. It has somehow also made X7 as insignificant\n",
    "- For lambda close to 0.01, least true error is there in the model. "
   ]
  },
  {
   "cell_type": "code",
   "execution_count": 175,
   "metadata": {},
   "outputs": [
    {
     "data": {
      "image/png": "[encoded data removed]",
      "text/plain": [
       "<Figure size 576x432 with 1 Axes>"
      ]
     },
     "metadata": {
      "needs_background": "light"
     },
     "output_type": "display_data"
    }
   ],
   "source": [
    "w_lambda_2 = new_ridge.ridge_regression(X_trim, y_trim, 0.01)\n",
    "\n",
    "plot_comparison(trim_actual_weights, w_lambda_2.flatten(), features)"
   ]
  },
  {
   "cell_type": "code",
   "execution_count": 173,
   "metadata": {},
   "outputs": [
    {
     "data": {
      "image/png": "[encoded data removed]",
      "text/plain": [
       "<Figure size 576x432 with 1 Axes>"
      ]
     },
     "metadata": {
      "needs_background": "light"
     },
     "output_type": "display_data"
    }
   ],
   "source": [
    "w_lambda_2 = new_ridge.naive_regression(X_trim, y_trim)\n",
    "plot_comparison(trim_actual_weights, w_lambda_2.flatten(), features)"
   ]
  },
  {
   "cell_type": "markdown",
   "metadata": {},
   "source": [
    "- We observe that the weights given by the models are almost the same."
   ]
  },
  {
   "cell_type": "markdown",
   "metadata": {},
   "source": [
    "### SVM"
   ]
  },
  {
   "cell_type": "markdown",
   "metadata": {},
   "source": [
    "#### 1. Implement a barrier-method dual SVM solver. How can you (easily!) generate an initial feasible α solution away from the boundaries of the constraint region? How can you ensure that you do not step outside the constraint region in any update step? How do you choose your $\\epsilon_t$? Be sure to return all $\\alpha_i$ including $\\alpha_i$ in the final answer."
   ]
  },
  {
   "cell_type": "markdown",
   "metadata": {},
   "source": [
    "Using Damped Newton's method for recentering in the Barrier method to solve dual SVM:\n",
    "\n",
    "$$minimize \\phi_t(x) = t(0.5x^TQx + p^Tx) + B(b-Ax)$$\n",
    "\n",
    "where B is the logarithmic barrier defined as:\n",
    "$$B(x) = - \\sum_i{log(x_i)}$$\n",
    "\n",
    "The steps followed below have been referred from this article https://github.com/lenassero/linear-svm"
   ]
  },
  {
   "cell_type": "code",
   "execution_count": 120,
   "metadata": {},
   "outputs": [],
   "source": [
    "class SVM():\n",
    "    def __init__(self, tau=1, t_0=1, tol=0.0001, mu=15, sol=\"Dual\", kernel=None, poly_d=2):\n",
    "        self.tau = tau\n",
    "        self.t_0 = t_0\n",
    "        self.tol = tol\n",
    "        self.mu = mu\n",
    "        self.kernel = kernel\n",
    "        self.poly_d = poly_d\n",
    "        self.sol = sol\n",
    "        \n",
    "    def damp_newt_step(self, x, objective_func, grad, hess):\n",
    "        g = grad(x)\n",
    "        h = hess(x)\n",
    "        h_inverse = np.linalg.inv(h)\n",
    "        lmbda = np.sqrt((g.T.dot(h_inverse.dot(g))))\n",
    "        x_new = x - (1/(1+lmbda))*h_inverse.dot(g)\n",
    "        gap = 0.5*lmbda**2\n",
    "        return x_new, gap\n",
    "\n",
    "    def damp_newt_method(self, x, objective_func, grad, hess):\n",
    "        x, gap = self.damp_newt_step(x, objective_func, grad, hess)\n",
    "        x_histogram = [x]\n",
    "        if self.tol < (3-(5**0.5))/2:\n",
    "            while gap > self.tol:\n",
    "                x, gap = self.damp_newt_step(x, objective_func, grad, hess)\n",
    "            x_histogram.append(x)\n",
    "            x_star = x\n",
    "        else:\n",
    "            raise ValueError(\"tol should be less than the condition value\")\n",
    "        return x_star, x_histogram\n",
    "    \n",
    "    def transform_dual_svm(self, tau, X, y):\n",
    "        n_obs = X.shape[1]\n",
    "        if self.kernel == \"Polynomial\":\n",
    "            K = (np.identity(n=n_obs) + X.T.dot(X)) ** self.poly_d\n",
    "            Q = (y*y)*K\n",
    "        else:\n",
    "            Q = (X*y).T.dot(X*y)\n",
    "        p = -np.ones(n_obs)\n",
    "        A = np.zeros((2 * n_obs, n_obs))\n",
    "        A[:n_obs, :] = np.identity(n_obs)\n",
    "        A[n_obs:, :] = -np.identity(n_obs)\n",
    "        b = np.zeros(2 * n_obs)\n",
    "        b[:n_obs] = 1 / (tau * n_obs)\n",
    "        \n",
    "        return Q, p, A, b\n",
    "    \n",
    "    def transform_primal_svm(self, tau, X, y):\n",
    "        d = X.shape[0]\n",
    "        d_ = d - 1\n",
    "        n = X.shape[1]\n",
    "        Q = np.zeros((d+n, d+n))\n",
    "        Q[:d_, :d_] = np.identity(d_)\n",
    "        p = np.zeros(d + n)\n",
    "        p[d:] = 1/(tau*n)\n",
    "        A = np.zeros((2*n, d + n))\n",
    "        A[:n, :d] = -(X*y).T\n",
    "        A[:n, d:] = np.diag([-1]*n)\n",
    "        A[n:, d:] = np.diag([-1]*n)\n",
    "        b = np.zeros(2 * n)\n",
    "        b[:n] = -1\n",
    "        return Q, p, A, b\n",
    "        \n",
    "    def barrier_method(self, Q, p, A, b, x_0, t_0, mu, tol):\n",
    "        o_iters = []\n",
    "        m = b.shape[0]\n",
    "        if np.sum(A.dot(x_0) < b) == m:\n",
    "            t = t_0\n",
    "            x = x_0\n",
    "            x_histogram = [x_0]\n",
    "            while m / t >= tol:\n",
    "                f = lambda x: t*(0.5*np.dot(x, Q.dot(x)) + p.dot(x)) - np.sum(np.log(b - A.dot(x)))\n",
    "                g = lambda x: t*(Q.dot(x) + p) + np.sum(np.divide(A.T, b - A.dot(x)), axis=1)\n",
    "                h = lambda x: t*Q + (np.divide(A.T, b - A.dot(x))).dot((np.divide(A.T, b - A.dot(x))).T)\n",
    "                x, x_hist_newton = self.damp_newt_method(x, f, g, h)\n",
    "                x_histogram += x_hist_newton\n",
    "                o_iters += [len(x_hist_newton)]\n",
    "                t *= mu\n",
    "            x_sol = x\n",
    "        else:\n",
    "            raise ValueError(\"x_0 is not feasible, cannot proceed\")\n",
    "        return x_sol, x_histogram, o_iters\n",
    "\n",
    "    def train(self, X, y):\n",
    "        self.n = X.shape[0]\n",
    "        self.d = X.shape[1]\n",
    "        X = np.vstack((X.T, np.ones(self.n)))\n",
    "        \n",
    "        if self.sol == 'Dual':\n",
    "            self.x_0 = (1/(100*self.tau*self.n))*np.ones(self.n)\n",
    "            self.Q, self.p, self.A, self.b = self.transform_dual_svm(self.tau, X, y)\n",
    "            self.x_sol, self.x_histogram, self.o_iters = self.barrier_method(self.Q,self.p, self.A, self.b, self.x_0, self.t_0,self.mu, self.tol)\n",
    "            self.w = self.x_sol.dot((X*y).T)\n",
    "        elif self.sol == 'Primal':\n",
    "            self.x_0 = np.zeros(self.d + 1 + self.n)\n",
    "            self.x_0[self.d + 1:] = 1.1\n",
    "            self.Q, self.p, self.A, self.b = self.transform_primal_svm(self.tau, X, y)\n",
    "            self.x_sol, self.x_histogram, self.o_iters = self.barrier_method(self.Q,self.p, self.A, self.b, self.x_0, self.t_0,self.mu, self.tol)\n",
    "            self.w = self.x_sol[:self.d + 1]\n",
    "\n",
    "    def predict(self, X_test, y_test):\n",
    "        n_test = X_test.shape[0]\n",
    "        X_test = np.vstack((X_test.T, np.ones(n_test)))\n",
    "        y_pred = np.sign(self.w.T.dot(X_test))\n",
    "        accuracy = self.compute_mean_accuracy(y_pred, y_test)\n",
    "        return y_pred, accuracy\n",
    "\n",
    "    def compute_mean_accuracy(self, y_pred, y_test):\n",
    "        accuracy = np.sum(y_pred == y_test)\n",
    "        accuracy /= np.shape(y_test)[0]\n",
    "        return accuracy"
   ]
  },
  {
   "cell_type": "markdown",
   "metadata": {},
   "source": [
    "- The initial feasible points comes directly from the constraint on the dual SVM problem\n",
    "- As t increases, $\\epsilon$ decreases till we reach an optimal solution. "
   ]
  },
  {
   "cell_type": "code",
   "execution_count": 121,
   "metadata": {},
   "outputs": [
    {
     "data": {
      "text/plain": [
       "((150, 4), (150,))"
      ]
     },
     "execution_count": 121,
     "metadata": {},
     "output_type": "execute_result"
    }
   ],
   "source": [
    "from sklearn import datasets\n",
    "\n",
    "iris_data = datasets.load_iris()\n",
    "X, y = iris_data.data, iris_data.target\n",
    "X.shape, y.shape"
   ]
  },
  {
   "cell_type": "code",
   "execution_count": 123,
   "metadata": {},
   "outputs": [
    {
     "name": "stdout",
     "output_type": "stream",
     "text": [
      "The training Error is computed as :  0.3333333333333333\n",
      "[0.11546831 0.05286295 0.07656573 0.02364126 0.02306751]\n"
     ]
    }
   ],
   "source": [
    "svm = SVM(kernel = False, sol = \"Dual\")\n",
    "svm.train(X, y)\n",
    "print(\"The training Error is computed as : \", svm.predict(X, y)[1])\n",
    "print(svm.w)"
   ]
  },
  {
   "cell_type": "code",
   "execution_count": 124,
   "metadata": {},
   "outputs": [
    {
     "data": {
      "text/html": [
       "<div>\n",
       "<style scoped>\n",
       "    .dataframe tbody tr th:only-of-type {\n",
       "        vertical-align: middle;\n",
       "    }\n",
       "\n",
       "    .dataframe tbody tr th {\n",
       "        vertical-align: top;\n",
       "    }\n",
       "\n",
       "    .dataframe thead th {\n",
       "        text-align: right;\n",
       "    }\n",
       "</style>\n",
       "<table border=\"1\" class=\"dataframe\">\n",
       "  <thead>\n",
       "    <tr style=\"text-align: right;\">\n",
       "      <th></th>\n",
       "      <th>A</th>\n",
       "      <th>B</th>\n",
       "      <th>Y</th>\n",
       "    </tr>\n",
       "  </thead>\n",
       "  <tbody>\n",
       "    <tr>\n",
       "      <th>0</th>\n",
       "      <td>0</td>\n",
       "      <td>0</td>\n",
       "      <td>0</td>\n",
       "    </tr>\n",
       "    <tr>\n",
       "      <th>1</th>\n",
       "      <td>0</td>\n",
       "      <td>1</td>\n",
       "      <td>1</td>\n",
       "    </tr>\n",
       "    <tr>\n",
       "      <th>2</th>\n",
       "      <td>1</td>\n",
       "      <td>0</td>\n",
       "      <td>1</td>\n",
       "    </tr>\n",
       "    <tr>\n",
       "      <th>3</th>\n",
       "      <td>1</td>\n",
       "      <td>1</td>\n",
       "      <td>0</td>\n",
       "    </tr>\n",
       "  </tbody>\n",
       "</table>\n",
       "</div>"
      ],
      "text/plain": [
       "   A  B  Y\n",
       "0  0  0  0\n",
       "1  0  1  1\n",
       "2  1  0  1\n",
       "3  1  1  0"
      ]
     },
     "execution_count": 124,
     "metadata": {},
     "output_type": "execute_result"
    }
   ],
   "source": [
    "xor_dict = {'A': [0,0,1,1], 'B': [0,1,0,1], 'Y': [0,1,1,0]}\n",
    "xor_data = pd.DataFrame(xor_dict)\n",
    "xor_data.head()"
   ]
  },
  {
   "cell_type": "code",
   "execution_count": 126,
   "metadata": {},
   "outputs": [
    {
     "name": "stdout",
     "output_type": "stream",
     "text": [
      "The training Error is computed as :  0.5\n",
      "[0.24992109 0.24992109 0.49984217]\n"
     ]
    }
   ],
   "source": [
    "svm = SVM(kernel=True, tol=0.0001)\n",
    "svm.train(xor_data.drop('Y', 1).values, xor_data['Y'].values)\n",
    "print(\"The training Error is computed as : \", svm.predict(xor_data.drop('Y', 1).values, xor_data['Y'].values)[1])\n",
    "print(svm.w)"
   ]
  },
  {
   "cell_type": "code",
   "execution_count": 127,
   "metadata": {},
   "outputs": [
    {
     "name": "stdout",
     "output_type": "stream",
     "text": [
      "The training Error is computed as :  0.0\n",
      "[nan nan nan]\n"
     ]
    }
   ],
   "source": [
    "svm = SVM(kernel=False, sol=\"Primal\")\n",
    "svm.train(xor_data.drop('Y', 1).values, xor_data['Y'].values)\n",
    "print(\"The training Error is computed as : \", svm.predict(xor_data.drop('Y', 1).values, xor_data['Y'].values)[1])\n",
    "print(svm.w)"
   ]
  },
  {
   "cell_type": "code",
   "execution_count": null,
   "metadata": {},
   "outputs": [],
   "source": []
  }
 ],
 "metadata": {
  "kernelspec": {
   "display_name": "Python 3",
   "language": "python",
   "name": "python3"
  },
  "language_info": {
   "codemirror_mode": {
    "name": "ipython",
    "version": 3
   },
   "file_extension": ".py",
   "mimetype": "text/x-python",
   "name": "python",
   "nbconvert_exporter": "python",
   "pygments_lexer": "ipython3",
   "version": "3.7.1"
  }
 },
 "nbformat": 4,
 "nbformat_minor": 2
}
