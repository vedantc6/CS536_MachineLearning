{
 "cells": [
  {
   "cell_type": "markdown",
   "metadata": {},
   "source": [
    "## CS536: Perceptrons\n",
    "#### Done by - Vedant Choudhary, vc389\n",
    "In the usual way, we need data that we can fit and analyze using perceptrons. Consider generating data points (X, Y) in the following way:\n",
    "- For $i = 1,....,k-1$, let $X_i ~ N(0, 1)$ (i.e. each $X_i$ is an i.i.d. standard normal)\n",
    "- For $i = k$, generate $X_k$ in the following way: let $D ~ Exp(1)$, and for a parameter $\\epsilon > 0$ take\n",
    "\n",
    "$X_k = (\\epsilon + D)$ with probability 1/2\n",
    "\n",
    "$X_k = -(\\epsilon + D)$ with probability 1/2\n",
    "\n",
    "The effect of this is that while $X_1,...X_{k-1}$ are i.i.d. standard normals, $X_k$ is distributed randomly with some gap (of size $2\\epsilon$ around $X_k = 0$. We can then classify each point according to the following:\n",
    "\n",
    "$Y = 1$ with probability 1/2\n",
    "\n",
    "$Y = -1$ with probability 1/2\n",
    "\n",
    "We see that the class of each data point is determined entirely by the value of the $X_k$ feature"
   ]
  },
  {
   "cell_type": "markdown",
   "metadata": {},
   "source": [
    "#### 1. Show that there is a perceptron that correctly classifies this data. Is this perceptron unique? What is the ‘best’ perceptron for this data set, theoretically?"
   ]
  },
  {
   "cell_type": "code",
   "execution_count": 7,
   "metadata": {},
   "outputs": [],
   "source": [
    "# Importing required libraries\n",
    "import numpy as np\n",
    "import pandas as pd\n",
    "import matplotlib.pyplot as plt\n",
    "import pprint\n",
    "from tqdm import tqdm\n",
    "\n",
    "%matplotlib inline"
   ]
  },
  {
   "cell_type": "code",
   "execution_count": 8,
   "metadata": {},
   "outputs": [],
   "source": [
    "# Creating X (feature) vectors for the data\n",
    "def create_data(k, m, D, epsilon):\n",
    "    X_k_minus_1 = np.random.normal(0, 1, (m,k-1))\n",
    "    X_k = []\n",
    "    for i in range(m):\n",
    "        temp = np.random.choice(2, 1, p=[0.5,0.5])\n",
    "#         print(temp)\n",
    "        if temp == 1:\n",
    "            X_k.append(epsilon + D)\n",
    "        else:\n",
    "            X_k.append(-(epsilon + D))\n",
    "    X_k = np.asarray(X_k).reshape((1,m))\n",
    "#     print(X_k_minus_1)\n",
    "#     print(X_k)\n",
    "    return np.concatenate((X_k_minus_1, X_k.T), axis=1)\n",
    "\n",
    "# Creating target column for the data\n",
    "def create_y(X, m):\n",
    "    y = []\n",
    "    for i in range(m):\n",
    "        if X[i][-1] > 0:\n",
    "            y.append(1)\n",
    "        else:\n",
    "            y.append(-1)\n",
    "    return y\n",
    "\n",
    "# Combining all the sub data points into a dataframe\n",
    "def create_dataset(k, m, epsilon, D):\n",
    "    X = np.asarray(create_data(k, m, epsilon, D))\n",
    "    y = np.asarray(create_y(X, m)).reshape((m,1))\n",
    "    print(X.shape,y.shape)\n",
    "\n",
    "    # Training data is an appended version of X and y arrays\n",
    "    data = pd.DataFrame(np.append(X, y, axis=1), columns=[\"X\" + str(i) for i in range(1,k+1)]+['Y'])\n",
    "    return data"
   ]
  },
  {
   "cell_type": "code",
   "execution_count": 9,
   "metadata": {},
   "outputs": [
    {
     "name": "stdout",
     "output_type": "stream",
     "text": [
      "(100, 20) (100, 1)\n"
     ]
    },
    {
     "data": {
      "text/html": [
       "<div>\n",
       "<style scoped>\n",
       "    .dataframe tbody tr th:only-of-type {\n",
       "        vertical-align: middle;\n",
       "    }\n",
       "\n",
       "    .dataframe tbody tr th {\n",
       "        vertical-align: top;\n",
       "    }\n",
       "\n",
       "    .dataframe thead th {\n",
       "        text-align: right;\n",
       "    }\n",
       "</style>\n",
       "<table border=\"1\" class=\"dataframe\">\n",
       "  <thead>\n",
       "    <tr style=\"text-align: right;\">\n",
       "      <th></th>\n",
       "      <th>X1</th>\n",
       "      <th>X2</th>\n",
       "      <th>X3</th>\n",
       "      <th>X4</th>\n",
       "      <th>X5</th>\n",
       "      <th>X6</th>\n",
       "      <th>X7</th>\n",
       "      <th>X8</th>\n",
       "      <th>X9</th>\n",
       "      <th>X10</th>\n",
       "      <th>...</th>\n",
       "      <th>X12</th>\n",
       "      <th>X13</th>\n",
       "      <th>X14</th>\n",
       "      <th>X15</th>\n",
       "      <th>X16</th>\n",
       "      <th>X17</th>\n",
       "      <th>X18</th>\n",
       "      <th>X19</th>\n",
       "      <th>X20</th>\n",
       "      <th>Y</th>\n",
       "    </tr>\n",
       "  </thead>\n",
       "  <tbody>\n",
       "    <tr>\n",
       "      <th>0</th>\n",
       "      <td>0.097679</td>\n",
       "      <td>0.048311</td>\n",
       "      <td>-1.408764</td>\n",
       "      <td>-1.115101</td>\n",
       "      <td>-0.577580</td>\n",
       "      <td>-1.160695</td>\n",
       "      <td>0.875647</td>\n",
       "      <td>1.792435</td>\n",
       "      <td>0.353582</td>\n",
       "      <td>-0.772790</td>\n",
       "      <td>...</td>\n",
       "      <td>0.720459</td>\n",
       "      <td>0.514955</td>\n",
       "      <td>0.206826</td>\n",
       "      <td>-0.751163</td>\n",
       "      <td>1.275714</td>\n",
       "      <td>0.270208</td>\n",
       "      <td>-0.903498</td>\n",
       "      <td>-0.232159</td>\n",
       "      <td>-2.164908</td>\n",
       "      <td>-1.0</td>\n",
       "    </tr>\n",
       "    <tr>\n",
       "      <th>1</th>\n",
       "      <td>-0.532775</td>\n",
       "      <td>0.823806</td>\n",
       "      <td>1.689542</td>\n",
       "      <td>-0.092628</td>\n",
       "      <td>-1.577128</td>\n",
       "      <td>-0.014022</td>\n",
       "      <td>0.342128</td>\n",
       "      <td>0.122362</td>\n",
       "      <td>0.725618</td>\n",
       "      <td>0.943008</td>\n",
       "      <td>...</td>\n",
       "      <td>-2.094628</td>\n",
       "      <td>0.439961</td>\n",
       "      <td>0.518365</td>\n",
       "      <td>-0.683353</td>\n",
       "      <td>-0.455634</td>\n",
       "      <td>-0.384014</td>\n",
       "      <td>0.203771</td>\n",
       "      <td>-1.723860</td>\n",
       "      <td>2.164908</td>\n",
       "      <td>1.0</td>\n",
       "    </tr>\n",
       "    <tr>\n",
       "      <th>2</th>\n",
       "      <td>-1.613375</td>\n",
       "      <td>0.776006</td>\n",
       "      <td>0.204005</td>\n",
       "      <td>1.078115</td>\n",
       "      <td>0.393640</td>\n",
       "      <td>-0.626865</td>\n",
       "      <td>-0.469516</td>\n",
       "      <td>-0.435560</td>\n",
       "      <td>-1.846218</td>\n",
       "      <td>-0.348656</td>\n",
       "      <td>...</td>\n",
       "      <td>1.678369</td>\n",
       "      <td>1.704766</td>\n",
       "      <td>-0.427286</td>\n",
       "      <td>0.760940</td>\n",
       "      <td>-0.168934</td>\n",
       "      <td>-0.116127</td>\n",
       "      <td>-0.576353</td>\n",
       "      <td>-1.736837</td>\n",
       "      <td>2.164908</td>\n",
       "      <td>1.0</td>\n",
       "    </tr>\n",
       "    <tr>\n",
       "      <th>3</th>\n",
       "      <td>1.699752</td>\n",
       "      <td>1.465596</td>\n",
       "      <td>-1.045667</td>\n",
       "      <td>0.809284</td>\n",
       "      <td>0.804832</td>\n",
       "      <td>-0.572042</td>\n",
       "      <td>1.406852</td>\n",
       "      <td>-0.603744</td>\n",
       "      <td>0.791317</td>\n",
       "      <td>-0.239988</td>\n",
       "      <td>...</td>\n",
       "      <td>-1.582189</td>\n",
       "      <td>1.135737</td>\n",
       "      <td>0.804935</td>\n",
       "      <td>-0.651315</td>\n",
       "      <td>-0.417393</td>\n",
       "      <td>1.356652</td>\n",
       "      <td>-0.049605</td>\n",
       "      <td>-1.694167</td>\n",
       "      <td>2.164908</td>\n",
       "      <td>1.0</td>\n",
       "    </tr>\n",
       "    <tr>\n",
       "      <th>4</th>\n",
       "      <td>0.597461</td>\n",
       "      <td>1.025009</td>\n",
       "      <td>-1.772659</td>\n",
       "      <td>1.385330</td>\n",
       "      <td>1.783041</td>\n",
       "      <td>0.538177</td>\n",
       "      <td>-1.540218</td>\n",
       "      <td>-0.796000</td>\n",
       "      <td>0.296825</td>\n",
       "      <td>-0.082045</td>\n",
       "      <td>...</td>\n",
       "      <td>0.795963</td>\n",
       "      <td>0.073768</td>\n",
       "      <td>0.251828</td>\n",
       "      <td>0.956883</td>\n",
       "      <td>-1.609740</td>\n",
       "      <td>-2.488955</td>\n",
       "      <td>0.888915</td>\n",
       "      <td>2.566588</td>\n",
       "      <td>2.164908</td>\n",
       "      <td>1.0</td>\n",
       "    </tr>\n",
       "  </tbody>\n",
       "</table>\n",
       "<p>5 rows × 21 columns</p>\n",
       "</div>"
      ],
      "text/plain": [
       "         X1        X2        X3        X4        X5        X6        X7  \\\n",
       "0  0.097679  0.048311 -1.408764 -1.115101 -0.577580 -1.160695  0.875647   \n",
       "1 -0.532775  0.823806  1.689542 -0.092628 -1.577128 -0.014022  0.342128   \n",
       "2 -1.613375  0.776006  0.204005  1.078115  0.393640 -0.626865 -0.469516   \n",
       "3  1.699752  1.465596 -1.045667  0.809284  0.804832 -0.572042  1.406852   \n",
       "4  0.597461  1.025009 -1.772659  1.385330  1.783041  0.538177 -1.540218   \n",
       "\n",
       "         X8        X9       X10 ...        X12       X13       X14       X15  \\\n",
       "0  1.792435  0.353582 -0.772790 ...   0.720459  0.514955  0.206826 -0.751163   \n",
       "1  0.122362  0.725618  0.943008 ...  -2.094628  0.439961  0.518365 -0.683353   \n",
       "2 -0.435560 -1.846218 -0.348656 ...   1.678369  1.704766 -0.427286  0.760940   \n",
       "3 -0.603744  0.791317 -0.239988 ...  -1.582189  1.135737  0.804935 -0.651315   \n",
       "4 -0.796000  0.296825 -0.082045 ...   0.795963  0.073768  0.251828  0.956883   \n",
       "\n",
       "        X16       X17       X18       X19       X20    Y  \n",
       "0  1.275714  0.270208 -0.903498 -0.232159 -2.164908 -1.0  \n",
       "1 -0.455634 -0.384014  0.203771 -1.723860  2.164908  1.0  \n",
       "2 -0.168934 -0.116127 -0.576353 -1.736837  2.164908  1.0  \n",
       "3 -0.417393  1.356652 -0.049605 -1.694167  2.164908  1.0  \n",
       "4 -1.609740 -2.488955  0.888915  2.566588  2.164908  1.0  \n",
       "\n",
       "[5 rows x 21 columns]"
      ]
     },
     "execution_count": 9,
     "metadata": {},
     "output_type": "execute_result"
    }
   ],
   "source": [
    "# Global Variables - k = 20, m = 100, epsilon = 1\n",
    "k, m, epsilon = 20, 100, 1\n",
    "D = float(np.random.exponential(1, 1))\n",
    "\n",
    "train_data = create_dataset(k, m, epsilon, D)\n",
    "train_data.head()"
   ]
  },
  {
   "cell_type": "code",
   "execution_count": 10,
   "metadata": {},
   "outputs": [],
   "source": [
    "# Class for Perceptron\n",
    "class Perceptron():\n",
    "    def __init__(self):\n",
    "        pass\n",
    "    \n",
    "    def sign_function(self, data_vec):\n",
    "        return np.array([1 if val >= 1 else -1 for val in data_vec])[:, np.newaxis]\n",
    "    \n",
    "    def pla(self, data):\n",
    "        X = np.asarray(data.iloc[:,:-1])\n",
    "        y = np.asarray(data.iloc[:,-1:])\n",
    "        num_samples, num_features = X.shape\n",
    "#         Initialize weight and bias parameters\n",
    "        self.w = np.zeros(shape=(num_features, 1))\n",
    "        self.bias = 0\n",
    "#         Add check condition if y != f_x ever\n",
    "        count_till_solution = 0\n",
    "        while True:\n",
    "            count_till_solution += 1\n",
    "#             Calculate the mapping function f(x)\n",
    "            f_x = self.sign_function(np.dot(X, self.w) + self.bias)\n",
    "#             Compute weights if f_x != y\n",
    "            for i in range(num_samples):\n",
    "                if f_x[i] != y[i]:\n",
    "                    self.w += np.dot(X[i].T.reshape((num_features, 1)), y[i].reshape((1,1)))\n",
    "                    self.bias += y[i]\n",
    "                \n",
    "            if np.array_equal(y, f_x):\n",
    "                break\n",
    "                    \n",
    "        return self.w, self.bias, count_till_solution\n",
    "    \n",
    "    '''\n",
    "    Predicts the target value based on a data vector\n",
    "    Input - a single row of dataset or a single X vector, decision tree\n",
    "    Return - predicted value\n",
    "    '''\n",
    "    def predict(self, instance_data):\n",
    "        prediction = self.sign_function(np.dot(self.w.T, np.asarray(instance_data).reshape((20,1))) + self.bias)\n",
    "        return prediction   \n",
    "    \n",
    "    '''\n",
    "    Predicts the target value and then calculates error based on the predictions\n",
    "    Input - dataset, decision tree built\n",
    "    Return - error\n",
    "    '''\n",
    "    def fit(self, data):\n",
    "        error = 0\n",
    "        for i in range(len(data)):\n",
    "            prediction = self.predict(data.iloc[i][:-1])\n",
    "            if prediction != data.iloc[i][-1]:\n",
    "                error += 1\n",
    "        return error/len(data) \n",
    "        "
   ]
  },
  {
   "cell_type": "code",
   "execution_count": 11,
   "metadata": {},
   "outputs": [
    {
     "name": "stdout",
     "output_type": "stream",
     "text": [
      "[[  3.73166689]\n",
      " [ -7.80209812]\n",
      " [ -1.70273271]\n",
      " [  9.9961735 ]\n",
      " [ 13.84592798]\n",
      " [ -4.09804145]\n",
      " [ -6.67398628]\n",
      " [ -6.23696107]\n",
      " [ 13.72913903]\n",
      " [  3.02891677]\n",
      " [ -1.62372769]\n",
      " [ 18.92262728]\n",
      " [ 11.19401271]\n",
      " [ -4.46487042]\n",
      " [  3.39362407]\n",
      " [-11.53594402]\n",
      " [ -2.6595887 ]\n",
      " [ -2.60073457]\n",
      " [  0.6553339 ]\n",
      " [110.41029347]]\n",
      "[51.]\n",
      "2\n"
     ]
    }
   ],
   "source": [
    "perceptron = Perceptron()\n",
    "final_w, final_b, num_steps = perceptron.pla(train_data)\n",
    "print(final_w)\n",
    "print(final_b)\n",
    "print(num_steps)"
   ]
  },
  {
   "cell_type": "code",
   "execution_count": 12,
   "metadata": {},
   "outputs": [
    {
     "data": {
      "text/plain": [
       "0.0"
      ]
     },
     "execution_count": 12,
     "metadata": {},
     "output_type": "execute_result"
    }
   ],
   "source": [
    "error = perceptron.fit(train_data)\n",
    "error"
   ]
  },
  {
   "cell_type": "code",
   "execution_count": 15,
   "metadata": {},
   "outputs": [
    {
     "name": "stdout",
     "output_type": "stream",
     "text": [
      "(100, 20) (100, 1)\n"
     ]
    },
    {
     "data": {
      "text/plain": [
       "0.0"
      ]
     },
     "execution_count": 15,
     "metadata": {},
     "output_type": "execute_result"
    }
   ],
   "source": [
    "test_data = create_dataset(k,m, epsilon,D)\n",
    "test_error = perceptron.fit(test_data)\n",
    "test_error"
   ]
  },
  {
   "cell_type": "markdown",
   "metadata": {},
   "source": [
    "#### 3. For any given data set, there may be multiple separators with multiple margins - but for our data set, we can effectively control the size of the margin with the parameter $\\epsilon$ - the bigger this value, the bigger the margin of our separator.\n",
    "#### – For m = 100, k = 20, generate a data set for a given value of $\\epsilon$ and run the learning algorithm to completion. Plot, as a function of $\\epsilon$ ∈ [0, 1], the average or typical number of steps the algorithm needs to terminate. Characterize the dependence."
   ]
  },
  {
   "cell_type": "code",
   "execution_count": 31,
   "metadata": {},
   "outputs": [],
   "source": [
    "def varied_margin():\n",
    "    k, m = 20, 100\n",
    "    D = float(np.random.exponential(1, 1))\n",
    "    epsilon = list(np.arange(0, 1.1, 0.1))\n",
    "    steps = []\n",
    "    for i in range(len(epsilon)):\n",
    "        train_data = create_dataset(k, m, epsilon[i], D)\n",
    "        perceptron = Perceptron()\n",
    "        final_w, final_b, num_steps = perceptron.pla(train_data)\n",
    "        steps.append(num_steps)\n",
    "        \n",
    "    plt.plot(epsilon, steps)\n",
    "    plt.title(\"Number of steps w.r.t. margin\")\n",
    "    plt.xlabel(\"Margin value\")\n",
    "    plt.ylabel(\"#Steps\")\n",
    "    plt.show()"
   ]
  },
  {
   "cell_type": "code",
   "execution_count": 34,
   "metadata": {},
   "outputs": [
    {
     "data": {
      "image/png": "[encoded data removed]",
      "text/plain": [
       "<Figure size 432x288 with 1 Axes>"
      ]
     },
     "metadata": {
      "needs_background": "light"
     },
     "output_type": "display_data"
    }
   ],
   "source": [
    "varied_margin()"
   ]
  },
  {
   "cell_type": "markdown",
   "metadata": {},
   "source": [
    "#### 4. One of the nice properties of the perceptron learning algorithm (and perceptrons generally) is that learning the weight vector w and bias value b is typically independent of the ambient dimension. To see this, consider the following experiment:\n",
    "#### – Fixing m = 100, $\\epsilon$ = 1, consider generating a data set on k features and running the learning algorithm on it. Plot, as a function k (for k = 2, . . . , 40), the typical number of steps to learn a perceptron on a data set of this size. How does the number of steps vary with k? Repeat for m = 1000."
   ]
  },
  {
   "cell_type": "code",
   "execution_count": 35,
   "metadata": {},
   "outputs": [],
   "source": [
    "def varied_features(m):\n",
    "    epsilon = 1\n",
    "    D = float(np.random.exponential(1, 1))\n",
    "    k = list(np.arange(2, 40, 1))\n",
    "    steps = []\n",
    "    for i in range(len(k)):\n",
    "        train_data = create_dataset(k[i], m, epsilon, D)\n",
    "        perceptron = Perceptron()\n",
    "        final_w, final_b, num_steps = perceptron.pla(train_data)\n",
    "        steps.append(num_steps)\n",
    "        \n",
    "    plt.plot(k, steps)\n",
    "    plt.title(\"Number of steps w.r.t. features\")\n",
    "    plt.xlabel(\"#Features\")\n",
    "    plt.ylabel(\"#Steps\")\n",
    "    plt.show()"
   ]
  },
  {
   "cell_type": "code",
   "execution_count": 36,
   "metadata": {},
   "outputs": [
    {
     "data": {
      "image/png": "[encoded data removed]",
      "text/plain": [
       "<Figure size 432x288 with 1 Axes>"
      ]
     },
     "metadata": {
      "needs_background": "light"
     },
     "output_type": "display_data"
    }
   ],
   "source": [
    "varied_features(100)"
   ]
  },
  {
   "cell_type": "code",
   "execution_count": 37,
   "metadata": {},
   "outputs": [
    {
     "data": {
      "image/png": "[encoded data removed]",
      "text/plain": [
       "<Figure size 432x288 with 1 Axes>"
      ]
     },
     "metadata": {
      "needs_background": "light"
     },
     "output_type": "display_data"
    }
   ],
   "source": [
    "varied_features(1000)"
   ]
  },
  {
   "cell_type": "markdown",
   "metadata": {},
   "source": [
    "#### 5. As shown in class, the perceptron learning algorithm always terminates in finite time - if there is a separator. Consider generating non-separable data in the following way: generate each $X_1, . . . , X_k$ as i.i.d. standard normals N(0, 1). Define Y by\n",
    "\n",
    "$$Y = 1 if \\sum_{i=1}^k{X_i^2} \\ge k $$\n",
    "$$Y = -1 else$$"
   ]
  },
  {
   "cell_type": "code",
   "execution_count": 54,
   "metadata": {},
   "outputs": [],
   "source": [
    "def create_non_separable_data(k, m):\n",
    "    X = np.random.normal(0, 1, (m,k))\n",
    "    y = []\n",
    "    for i in range(m):\n",
    "        total = 0\n",
    "        for j in range(k):\n",
    "            total += X[i][j]**2\n",
    "        \n",
    "        if total >= k:\n",
    "            y.append(1)\n",
    "        else:\n",
    "            y.append(0)\n",
    "            \n",
    "    return X, y\n",
    "\n",
    "def create_non_separable_dataset(k, m):\n",
    "    X, y = create_non_separable_data(k, m)\n",
    "    X = np.asarray(X)\n",
    "    y = np.asarray(y).reshape((m,1))\n",
    "    # Training data is an appended version of X and y arrays\n",
    "    data = pd.DataFrame(np.append(X, y, axis=1), columns=[\"X\" + str(i) for i in range(1,k+1)]+['Y'])\n",
    "    return data"
   ]
  },
  {
   "cell_type": "code",
   "execution_count": 56,
   "metadata": {},
   "outputs": [
    {
     "data": {
      "text/html": [
       "<div>\n",
       "<style scoped>\n",
       "    .dataframe tbody tr th:only-of-type {\n",
       "        vertical-align: middle;\n",
       "    }\n",
       "\n",
       "    .dataframe tbody tr th {\n",
       "        vertical-align: top;\n",
       "    }\n",
       "\n",
       "    .dataframe thead th {\n",
       "        text-align: right;\n",
       "    }\n",
       "</style>\n",
       "<table border=\"1\" class=\"dataframe\">\n",
       "  <thead>\n",
       "    <tr style=\"text-align: right;\">\n",
       "      <th></th>\n",
       "      <th>X1</th>\n",
       "      <th>X2</th>\n",
       "      <th>Y</th>\n",
       "    </tr>\n",
       "  </thead>\n",
       "  <tbody>\n",
       "    <tr>\n",
       "      <th>0</th>\n",
       "      <td>0.924559</td>\n",
       "      <td>0.343760</td>\n",
       "      <td>0.0</td>\n",
       "    </tr>\n",
       "    <tr>\n",
       "      <th>1</th>\n",
       "      <td>-0.740604</td>\n",
       "      <td>-0.929448</td>\n",
       "      <td>0.0</td>\n",
       "    </tr>\n",
       "    <tr>\n",
       "      <th>2</th>\n",
       "      <td>0.019718</td>\n",
       "      <td>-0.829103</td>\n",
       "      <td>0.0</td>\n",
       "    </tr>\n",
       "    <tr>\n",
       "      <th>3</th>\n",
       "      <td>-0.028949</td>\n",
       "      <td>-2.225394</td>\n",
       "      <td>1.0</td>\n",
       "    </tr>\n",
       "    <tr>\n",
       "      <th>4</th>\n",
       "      <td>1.467515</td>\n",
       "      <td>-0.103812</td>\n",
       "      <td>1.0</td>\n",
       "    </tr>\n",
       "  </tbody>\n",
       "</table>\n",
       "</div>"
      ],
      "text/plain": [
       "         X1        X2    Y\n",
       "0  0.924559  0.343760  0.0\n",
       "1 -0.740604 -0.929448  0.0\n",
       "2  0.019718 -0.829103  0.0\n",
       "3 -0.028949 -2.225394  1.0\n",
       "4  1.467515 -0.103812  1.0"
      ]
     },
     "execution_count": 56,
     "metadata": {},
     "output_type": "execute_result"
    }
   ],
   "source": [
    "k, m = 2, 100\n",
    "train_ns_data = create_non_separable_dataset(k, m)\n",
    "train_ns_data.head()"
   ]
  },
  {
   "cell_type": "code",
   "execution_count": null,
   "metadata": {},
   "outputs": [],
   "source": []
  }
 ],
 "metadata": {
  "kernelspec": {
   "display_name": "Python 3",
   "language": "python",
   "name": "python3"
  },
  "language_info": {
   "codemirror_mode": {
    "name": "ipython",
    "version": 3
   },
   "file_extension": ".py",
   "mimetype": "text/x-python",
   "name": "python",
   "nbconvert_exporter": "python",
   "pygments_lexer": "ipython3",
   "version": "3.7.1"
  }
 },
 "nbformat": 4,
 "nbformat_minor": 2
}
