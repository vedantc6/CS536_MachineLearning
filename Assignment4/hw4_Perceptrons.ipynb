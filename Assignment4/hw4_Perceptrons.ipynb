{
 "cells": [
  {
   "cell_type": "markdown",
   "metadata": {},
   "source": [
    "## CS536: Perceptrons\n",
    "#### Done by - Vedant Choudhary, vc389\n",
    "In the usual way, we need data that we can fit and analyze using perceptrons. Consider generating data points (X, Y) in the following way:\n",
    "- For $i = 1,....,k-1$, let $X_i ~ N(0, 1)$ (i.e. each $X_i$ is an i.i.d. standard normal)\n",
    "- For $i = k$, generate $X_k$ in the following way: let $D ~ Exp(1)$, and for a parameter $\\epsilon > 0$ take\n",
    "\n",
    "$X_k = (\\epsilon + D)$ with probability 1/2\n",
    "\n",
    "$X_k = -(\\epsilon + D)$ with probability 1/2\n",
    "\n",
    "The effect of this is that while $X_1,...X_{k-1}$ are i.i.d. standard normals, $X_k$ is distributed randomly with some gap (of size $2\\epsilon$ around $X_k = 0$. We can then classify each point according to the following:\n",
    "\n",
    "$Y = 1$ if $X_k$ > 0\n",
    "\n",
    "$Y = -1$ if $X_k$ < 0\n",
    "\n",
    "We see that the class of each data point is determined entirely by the value of the $X_k$ feature"
   ]
  },
  {
   "cell_type": "markdown",
   "metadata": {},
   "source": [
    "#### 1. Show that there is a perceptron that correctly classifies this data. Is this perceptron unique? What is the ‘best’ perceptron for this data set, theoretically?"
   ]
  },
  {
   "cell_type": "markdown",
   "metadata": {},
   "source": [
    "**Solution:** The perceptron generated when the data is linearly separable is unique. Best perceptron for a data would be the perceptron that relies heaviliy on the last feature of the dataset, as target value is governed by that."
   ]
  },
  {
   "cell_type": "code",
   "execution_count": 74,
   "metadata": {},
   "outputs": [],
   "source": [
    "# Importing required libraries\n",
    "import numpy as np\n",
    "import pandas as pd\n",
    "import matplotlib.pyplot as plt\n",
    "import pprint\n",
    "from tqdm import tqdm\n",
    "\n",
    "%matplotlib inline"
   ]
  },
  {
   "cell_type": "code",
   "execution_count": 75,
   "metadata": {},
   "outputs": [],
   "source": [
    "# Creating X (feature) vectors for the data\n",
    "def create_data(k, m, D, epsilon):\n",
    "    X_k_minus_1 = np.random.normal(0, 1, (m,k-1))\n",
    "    X_k = []\n",
    "    for i in range(m):\n",
    "        temp = np.random.choice(2, 1, p=[0.5,0.5])\n",
    "#         print(temp)\n",
    "        if temp == 1:\n",
    "            X_k.append(epsilon + D)\n",
    "        else:\n",
    "            X_k.append(-(epsilon + D))\n",
    "    X_k = np.asarray(X_k).reshape((1,m))\n",
    "#     print(X_k_minus_1)\n",
    "#     print(X_k)\n",
    "    return np.concatenate((X_k_minus_1, X_k.T), axis=1)\n",
    "\n",
    "# Creating target column for the data\n",
    "def create_y(X, m):\n",
    "    y = []\n",
    "    for i in range(m):\n",
    "        if X[i][-1] > 0:\n",
    "            y.append(1)\n",
    "        else:\n",
    "            y.append(-1)\n",
    "    return y\n",
    "\n",
    "# Combining all the sub data points into a dataframe\n",
    "def create_dataset(k, m, epsilon, D):\n",
    "    X = np.asarray(create_data(k, m, epsilon, D))\n",
    "    y = np.asarray(create_y(X, m)).reshape((m,1))\n",
    "#     print(X.shape,y.shape)\n",
    "\n",
    "    # Training data is an appended version of X and y arrays\n",
    "    data = pd.DataFrame(np.append(X, y, axis=1), columns=[\"X\" + str(i) for i in range(1,k+1)]+['Y'])\n",
    "    return data"
   ]
  },
  {
   "cell_type": "code",
   "execution_count": 151,
   "metadata": {
    "scrolled": false
   },
   "outputs": [],
   "source": [
    "# Global Variables - k = 20, m = 100, epsilon = 1\n",
    "k, m, epsilon = 20, 100, 1\n",
    "D = float(np.random.exponential(1, 1))\n",
    "\n",
    "train_data = create_dataset(k, m, epsilon, D)\n",
    "train_data.head()"
   ]
  },
  {
   "cell_type": "markdown",
   "metadata": {},
   "source": [
    "#### 2. We want to consider the problem of learning perceptrons from data sets. Generate a set of data of size m = 100 with k = 20, $\\epsilon$ = 1\n",
    "##### -  Implement the perceptron learning algorithm. This data is separable, so the algorithm will terminate. How does the output perceptron compare to your theoretical answer in the previous problem?"
   ]
  },
  {
   "cell_type": "code",
   "execution_count": 77,
   "metadata": {},
   "outputs": [],
   "source": [
    "# Class for Perceptron\n",
    "class Perceptron():\n",
    "    def __init__(self):\n",
    "        pass\n",
    "    \n",
    "    def sign_function(self, data_vec):\n",
    "        return np.array([1 if val >= 1 else -1 for val in data_vec])[:, np.newaxis]\n",
    "    \n",
    "    def pla(self, data):\n",
    "        X = np.asarray(data.iloc[:,:-1])\n",
    "        y = np.asarray(data.iloc[:,-1:])\n",
    "        num_samples, num_features = X.shape\n",
    "        \n",
    "#         Initialize weight and bias parameters\n",
    "        self.w = np.zeros(shape=(num_features, 1))\n",
    "        self.bias = 0\n",
    "        \n",
    "        count_till_solution = 0\n",
    "        f_x = [0]*num_samples\n",
    "        i = 0\n",
    "        theoretical_termination = []\n",
    "        while True:\n",
    "            mismatch = 0\n",
    "            for i in range(num_samples):\n",
    "#                 Calculate the mapping function f(x)\n",
    "                f_x[i] = float(self.sign_function(np.dot(X[i].reshape((num_features, 1)).T, self.w) + self.bias))\n",
    "\n",
    "#                 Compute weights if f_x != y\n",
    "                if float(f_x[i]) != float(y[i]):\n",
    "                    mismatch += 1\n",
    "                    self.w += np.dot(X[i].reshape((num_features, 1)), y[i].reshape((1,1)))\n",
    "                    self.bias += y[i]\n",
    "                    \n",
    "            count_till_solution += 1\n",
    "            min_margin = 99999\n",
    "            for i in range(num_samples):\n",
    "                margin = abs(np.dot(self.w.T, X[i].reshape(-1,1))/(np.linalg.norm(self.w)))\n",
    "                if margin < min_margin:\n",
    "                    min_margin = margin\n",
    "                \n",
    "            theoretical_termination.append(int(1/(min_margin**2)))\n",
    "            \n",
    "            f_x = np.asarray(f_x).reshape((num_samples, 1))\n",
    "            i += 1\n",
    "            if (np.array_equal(y, f_x)) or (mismatch >= 0.3*num_samples and count_till_solution >= 5000):\n",
    "                break\n",
    "                    \n",
    "        return self.w, self.bias, count_till_solution, max(theoretical_termination)\n",
    "    \n",
    "    '''\n",
    "    Predicts the target value based on a data vector\n",
    "    Input - a single row of dataset or a single X vector\n",
    "    Return - predicted value\n",
    "    '''\n",
    "    def predict(self, instance_data):\n",
    "        instance_data = np.asarray(instance_data)\n",
    "        prediction = self.sign_function(np.dot(self.w.T, instance_data.reshape((len(instance_data),1))) + self.bias)\n",
    "        return prediction   \n",
    "    \n",
    "    '''\n",
    "    Predicts the target value and then calculates error based on the predictions\n",
    "    Input - dataset, decision tree built\n",
    "    Return - error\n",
    "    '''\n",
    "    def fit(self, data):\n",
    "        error = 0\n",
    "        for i in range(len(data)):\n",
    "            prediction = self.predict(data.iloc[i][:-1])\n",
    "            if prediction != data.iloc[i][-1]:\n",
    "                print(\"Not equal\")\n",
    "                error += 1\n",
    "        return error/len(data) "
   ]
  },
  {
   "cell_type": "code",
   "execution_count": 78,
   "metadata": {
    "scrolled": false
   },
   "outputs": [
    {
     "name": "stdout",
     "output_type": "stream",
     "text": [
      "Final weights:\n",
      " [[-0.02028282]\n",
      " [ 0.49567837]\n",
      " [ 1.65992916]\n",
      " [ 1.39967994]\n",
      " [-1.21313692]\n",
      " [ 0.41967402]\n",
      " [ 1.38417544]\n",
      " [-0.34832315]\n",
      " [-0.97126667]\n",
      " [-1.27272908]\n",
      " [ 0.71416946]\n",
      " [-0.23664319]\n",
      " [ 0.66668559]\n",
      " [ 1.19579859]\n",
      " [ 0.41361097]\n",
      " [ 0.31351518]\n",
      " [ 1.32944018]\n",
      " [ 1.12600237]\n",
      " [ 0.86236847]\n",
      " [ 7.91628015]]\n",
      "Final bias:\n",
      " [2.]\n",
      "Number of steps till convergence: \n",
      " 2\n",
      "Theoretical number of steps till convergence can be found for linear separation:  3\n"
     ]
    }
   ],
   "source": [
    "perceptron = Perceptron()\n",
    "final_w, final_b, num_steps, theoretical_steps = perceptron.pla(train_data)\n",
    "print(\"Final weights:\\n\",final_w)\n",
    "print(\"Final bias:\\n\", final_b)\n",
    "print(\"Number of steps till convergence: \\n\", num_steps)\n",
    "print(\"Theoretical number of steps till convergence can be found for linear separation: \", theoretical_steps)"
   ]
  },
  {
   "cell_type": "code",
   "execution_count": 79,
   "metadata": {},
   "outputs": [
    {
     "data": {
      "text/plain": [
       "0.0"
      ]
     },
     "execution_count": 79,
     "metadata": {},
     "output_type": "execute_result"
    }
   ],
   "source": [
    "error = perceptron.fit(train_data)\n",
    "error"
   ]
  },
  {
   "cell_type": "code",
   "execution_count": 155,
   "metadata": {},
   "outputs": [
    {
     "data": {
      "image/png": "[encoded data removed]",
      "text/plain": [
       "<Figure size 432x288 with 1 Axes>"
      ]
     },
     "metadata": {
      "needs_background": "light"
     },
     "output_type": "display_data"
    }
   ],
   "source": [
    "plt.plot(np.linspace(0, 20, 20), list(final_w))\n",
    "plt.title(\"Weight vector by feature\")\n",
    "plt.xlabel(\"Feature number\")\n",
    "plt.ylabel(\"Weights\")\n",
    "plt.show()"
   ]
  },
  {
   "cell_type": "markdown",
   "metadata": {},
   "source": [
    "**Solution:** On implementing the perceptron learning algorithm on the dataset provided, we see that it is similar to our theoretical answer. The last feature has highest weight associated to it (as can be seen from the graph generated above). This is so because the data is created such that the target value depends solely on the last feature value."
   ]
  },
  {
   "cell_type": "markdown",
   "metadata": {},
   "source": [
    "#### 3. For any given data set, there may be multiple separators with multiple margins - but for our data set, we can effectively control the size of the margin with the parameter $\\epsilon$ - the bigger this value, the bigger the margin of our separator.\n",
    "#### – For m = 100, k = 20, generate a data set for a given value of $\\epsilon$ and run the learning algorithm to completion. Plot, as a function of $\\epsilon$ ∈ [0, 1], the average or typical number of steps the algorithm needs to terminate. Characterize the dependence."
   ]
  },
  {
   "cell_type": "code",
   "execution_count": 80,
   "metadata": {},
   "outputs": [],
   "source": [
    "def varied_margin():\n",
    "    k, m = 20, 100\n",
    "    epsilon = list(np.arange(0, 1.05, 0.05))\n",
    "    avg_steps = []\n",
    "    for i in tqdm(range(len(epsilon))):\n",
    "        steps = []\n",
    "        for j in range(100):\n",
    "            train_data = create_dataset(k, m, epsilon[i], D)\n",
    "            perceptron = Perceptron()\n",
    "            final_w, final_b, num_steps, theoretical_steps = perceptron.pla(train_data)\n",
    "            steps.append(num_steps)\n",
    "          \n",
    "        avg_steps.append(sum(steps)/len(steps))\n",
    "        \n",
    "    plt.plot(epsilon, avg_steps)\n",
    "    plt.title(\"Number of steps w.r.t. margin\")\n",
    "    plt.xlabel(\"Margin value\")\n",
    "    plt.ylabel(\"#Steps\")\n",
    "    plt.show()"
   ]
  },
  {
   "cell_type": "code",
   "execution_count": 81,
   "metadata": {
    "scrolled": true
   },
   "outputs": [
    {
     "name": "stderr",
     "output_type": "stream",
     "text": [
      "100%|██████████| 21/21 [00:18<00:00,  1.19it/s]\n"
     ]
    },
    {
     "data": {
      "image/png": "[encoded data removed]",
      "text/plain": [
       "<Figure size 432x288 with 1 Axes>"
      ]
     },
     "metadata": {
      "needs_background": "light"
     },
     "output_type": "display_data"
    }
   ],
   "source": [
    "varied_margin()"
   ]
  },
  {
   "cell_type": "markdown",
   "metadata": {},
   "source": [
    "**Solution:** On plotting average number of steps needed for termination of a linearly separable data w.r.t. $\\epsilon$, we observe that bigger the margin, lesser the number of steps are needed for the perceptron to terminate. This dependence can be proved by the Perceptron Convergence Theorem - If data is linearly separable, perceptron algorithm will find a linear classifier that classifies all data correctly, whose convergence is inversely proportional to the square of margin.\n",
    "\n",
    "This means as the margin increases, the convergence steps decrease."
   ]
  },
  {
   "cell_type": "markdown",
   "metadata": {},
   "source": [
    "#### 4. One of the nice properties of the perceptron learning algorithm (and perceptrons generally) is that learning the weight vector w and bias value b is typically independent of the ambient dimension. To see this, consider the following experiment:\n",
    "#### – Fixing m = 100, $\\epsilon$ = 1, consider generating a data set on k features and running the learning algorithm on it. Plot, as a function k (for k = 2, . . . , 40), the typical number of steps to learn a perceptron on a data set of this size. How does the number of steps vary with k? Repeat for m = 1000."
   ]
  },
  {
   "cell_type": "code",
   "execution_count": 88,
   "metadata": {},
   "outputs": [],
   "source": [
    "def varied_features(m):\n",
    "    epsilon = 1\n",
    "    D = float(np.random.exponential(1, 1))\n",
    "    k = list(np.arange(2, 40, 1))\n",
    "    steps = []\n",
    "    for i in range(len(k)):\n",
    "        train_data = create_dataset(k[i], m, epsilon, D)\n",
    "        perceptron = Perceptron()\n",
    "        final_w, final_b, num_steps, theoretical_steps = perceptron.pla(train_data)\n",
    "        steps.append(num_steps)\n",
    "        \n",
    "    plt.plot(k, steps)\n",
    "    plt.title(\"Number of steps w.r.t. features\")\n",
    "    plt.xlabel(\"#Features\")\n",
    "    plt.ylabel(\"#Steps\")\n",
    "    plt.show()"
   ]
  },
  {
   "cell_type": "code",
   "execution_count": 91,
   "metadata": {},
   "outputs": [
    {
     "data": {
      "image/png": "[encoded data removed]",
      "text/plain": [
       "<Figure size 432x288 with 1 Axes>"
      ]
     },
     "metadata": {
      "needs_background": "light"
     },
     "output_type": "display_data"
    }
   ],
   "source": [
    "varied_features(100)"
   ]
  },
  {
   "cell_type": "code",
   "execution_count": 92,
   "metadata": {
    "scrolled": true
   },
   "outputs": [
    {
     "data": {
      "image/png": "[encoded data removed]",
      "text/plain": [
       "<Figure size 432x288 with 1 Axes>"
      ]
     },
     "metadata": {
      "needs_background": "light"
     },
     "output_type": "display_data"
    }
   ],
   "source": [
    "varied_features(1000)"
   ]
  },
  {
   "cell_type": "markdown",
   "metadata": {},
   "source": [
    "**Solution:** The number of steps needed for convergence of a linearly separable data through perceptrons is usually independent of number of features the data has. This is shown through the above experiment too. For this case, I see no change in number of steps, but some different runs have shown very random change in number of steps, that also by just 1 step more or less. We cannot establish a trend of convergence w.r.t. the number of features."
   ]
  },
  {
   "cell_type": "markdown",
   "metadata": {},
   "source": [
    "#### 5. As shown in class, the perceptron learning algorithm always terminates in finite time - if there is a separator. Consider generating non-separable data in the following way: generate each $X_1, . . . , X_k$ as i.i.d. standard normals N(0, 1). Define Y by\n",
    "\n",
    "$$Y = 1 if \\sum_{i=1}^k{X_i^2} \\ge k $$\n",
    "$$Y = -1 else$$"
   ]
  },
  {
   "cell_type": "code",
   "execution_count": 93,
   "metadata": {},
   "outputs": [],
   "source": [
    "def create_non_separable_data(k, m):\n",
    "    X = np.random.normal(0, 1, (m,k))\n",
    "    y = []\n",
    "    for i in range(m):\n",
    "        total = 0\n",
    "        for j in range(k):\n",
    "            total += X[i][j]**2\n",
    "        \n",
    "        if total >= k:\n",
    "            y.append(1)\n",
    "        else:\n",
    "            y.append(-1)\n",
    "            \n",
    "    return X, y\n",
    "\n",
    "def create_non_separable_dataset(k, m):\n",
    "    X, y = create_non_separable_data(k, m)\n",
    "    X = np.asarray(X)\n",
    "    y = np.asarray(y).reshape((m,1))\n",
    "    # Training data is an appended version of X and y arrays\n",
    "    data = pd.DataFrame(np.append(X, y, axis=1), columns=[\"X\" + str(i) for i in range(1,k+1)]+['Y'])\n",
    "    return data"
   ]
  },
  {
   "cell_type": "code",
   "execution_count": 94,
   "metadata": {},
   "outputs": [
    {
     "data": {
      "text/html": [
       "<div>\n",
       "<style scoped>\n",
       "    .dataframe tbody tr th:only-of-type {\n",
       "        vertical-align: middle;\n",
       "    }\n",
       "\n",
       "    .dataframe tbody tr th {\n",
       "        vertical-align: top;\n",
       "    }\n",
       "\n",
       "    .dataframe thead th {\n",
       "        text-align: right;\n",
       "    }\n",
       "</style>\n",
       "<table border=\"1\" class=\"dataframe\">\n",
       "  <thead>\n",
       "    <tr style=\"text-align: right;\">\n",
       "      <th></th>\n",
       "      <th>X1</th>\n",
       "      <th>X2</th>\n",
       "      <th>Y</th>\n",
       "    </tr>\n",
       "  </thead>\n",
       "  <tbody>\n",
       "    <tr>\n",
       "      <th>0</th>\n",
       "      <td>0.475437</td>\n",
       "      <td>-0.333426</td>\n",
       "      <td>-1.0</td>\n",
       "    </tr>\n",
       "    <tr>\n",
       "      <th>1</th>\n",
       "      <td>-1.860030</td>\n",
       "      <td>-0.038617</td>\n",
       "      <td>1.0</td>\n",
       "    </tr>\n",
       "    <tr>\n",
       "      <th>2</th>\n",
       "      <td>0.130696</td>\n",
       "      <td>-1.140265</td>\n",
       "      <td>-1.0</td>\n",
       "    </tr>\n",
       "    <tr>\n",
       "      <th>3</th>\n",
       "      <td>-0.595984</td>\n",
       "      <td>-0.566819</td>\n",
       "      <td>-1.0</td>\n",
       "    </tr>\n",
       "    <tr>\n",
       "      <th>4</th>\n",
       "      <td>-0.144487</td>\n",
       "      <td>0.682837</td>\n",
       "      <td>-1.0</td>\n",
       "    </tr>\n",
       "  </tbody>\n",
       "</table>\n",
       "</div>"
      ],
      "text/plain": [
       "         X1        X2    Y\n",
       "0  0.475437 -0.333426 -1.0\n",
       "1 -1.860030 -0.038617  1.0\n",
       "2  0.130696 -1.140265 -1.0\n",
       "3 -0.595984 -0.566819 -1.0\n",
       "4 -0.144487  0.682837 -1.0"
      ]
     },
     "execution_count": 94,
     "metadata": {},
     "output_type": "execute_result"
    }
   ],
   "source": [
    "k, m = 2, 100\n",
    "train_ns_data = create_non_separable_dataset(k, m)\n",
    "train_ns_data.head()"
   ]
  },
  {
   "cell_type": "code",
   "execution_count": 95,
   "metadata": {},
   "outputs": [],
   "source": [
    "perceptron2 = Perceptron()\n",
    "final_w2, final_b2, num_steps2, theoretical_steps = perceptron2.pla(train_ns_data)"
   ]
  },
  {
   "cell_type": "code",
   "execution_count": 136,
   "metadata": {},
   "outputs": [
    {
     "data": {
      "image/png": "[encoded data removed]",
      "text/plain": [
       "<Figure size 432x288 with 1 Axes>"
      ]
     },
     "metadata": {
      "needs_background": "light"
     },
     "output_type": "display_data"
    }
   ],
   "source": [
    "plt.scatter(X1, X2, c=y2)\n",
    "plt.title(\"Dataset\")\n",
    "plt.xlabel(\"First feature\")\n",
    "plt.ylabel(\"Second feature\")\n",
    "plt.show()"
   ]
  },
  {
   "cell_type": "code",
   "execution_count": 158,
   "metadata": {},
   "outputs": [],
   "source": [
    "def plot_hyperplane(x1, x2, y, w, b):\n",
    "    slope = -w[0]/w[1]\n",
    "    intercept = -b/w[1]\n",
    "    x_hyperplane = np.linspace(-3,3,20)\n",
    "    y_hyperplane = slope*x_hyperplane + intercept\n",
    "    plt.scatter(x1, x2, c=y)\n",
    "    plt.plot(x_hyperplane, y_hyperplane, 'b-')\n",
    "    plt.title(\"Dataset with fitted hyperplane\")\n",
    "    plt.xlabel(\"First feature\")\n",
    "    plt.ylabel(\"Second feature\")\n",
    "    plt.show()"
   ]
  },
  {
   "cell_type": "code",
   "execution_count": 159,
   "metadata": {
    "scrolled": true
   },
   "outputs": [
    {
     "data": {
      "image/png": "[encoded data removed]",
      "text/plain": [
       "<Figure size 432x288 with 1 Axes>"
      ]
     },
     "metadata": {
      "needs_background": "light"
     },
     "output_type": "display_data"
    }
   ],
   "source": [
    "X2_1 = train_ns_data.iloc[:,:-2]\n",
    "X2_2 = train_ns_data.iloc[:,1:-1]\n",
    "y2 = train_ns_data.iloc[:,-1:]\n",
    "plot_hyperplane(X2_1, X2_2, y2, final_w2, final_b2)"
   ]
  },
  {
   "cell_type": "markdown",
   "metadata": {},
   "source": [
    "**Solution:** For a linearly non-separable data, perceptron is not a good algorithm to use, because it will never converge. Theoretically, it is possible to find an upper bound on number of steps required to converge (if the data is linearly separable). But, it cannot be put into practice easily, as to compute that, we first need to find the weight vector. \n",
    "\n",
    "Another thing to note is that, even if there is a convergence, the number of steps needed might be too large, which might bring the problem of computation power.\n",
    "\n",
    "For this assignment, I have established a heurisitc that if the mismatch % is approximately 30% of the total number of samples and the iterations have been more than 10000, then that means that possibly the data is not separable linearly. My reasoning for this is very straight forward, if 30% of data is still mismatched, it is likely that the mismatch will continue to happen for long, which is not computationally feasible."
   ]
  }
 ],
 "metadata": {
  "kernelspec": {
   "display_name": "Python 3",
   "language": "python",
   "name": "python3"
  },
  "language_info": {
   "codemirror_mode": {
    "name": "ipython",
    "version": 3
   },
   "file_extension": ".py",
   "mimetype": "text/x-python",
   "name": "python",
   "nbconvert_exporter": "python",
   "pygments_lexer": "ipython3",
   "version": "3.7.1"
  }
 },
 "nbformat": 4,
 "nbformat_minor": 2
}
