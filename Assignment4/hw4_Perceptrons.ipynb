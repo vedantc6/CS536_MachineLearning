{
 "cells": [
  {
   "cell_type": "markdown",
   "metadata": {},
   "source": [
    "## CS536: Perceptrons\n",
    "#### Done by - Vedant Choudhary, vc389\n",
    "In the usual way, we need data that we can fit and analyze using perceptrons. Consider generating data points (X, Y) in the following way:\n",
    "- For $i = 1,....,k-1$, let $X_i ~ N(0, 1)$ (i.e. each $X_i$ is an i.i.d. standard normal)\n",
    "- For $i = k$, generate $X_k$ in the following way: let $D ~ Exp(1)$, and for a parameter $\\epsilon > 0$ take\n",
    "\n",
    "$X_k = (\\epsilon + D)$ with probability 1/2\n",
    "\n",
    "$X_k = -(\\epsilon + D)$ with probability 1/2\n",
    "\n",
    "The effect of this is that while $X_1,...X_{k-1}$ are i.i.d. standard normals, $X_k$ is distributed randomly with some gap (of size $2\\epsilon$ around $X_k = 0$. We can then classify each point according to the following:\n",
    "\n",
    "$Y = 1$ if $X_k$ > 0\n",
    "\n",
    "$Y = -1$ if $X_k$ < 0\n",
    "\n",
    "We see that the class of each data point is determined entirely by the value of the $X_k$ feature"
   ]
  },
  {
   "cell_type": "markdown",
   "metadata": {},
   "source": [
    "#### 1. Show that there is a perceptron that correctly classifies this data. Is this perceptron unique? What is the ‘best’ perceptron for this data set, theoretically?"
   ]
  },
  {
   "cell_type": "markdown",
   "metadata": {},
   "source": [
    "**Solution:** The perceptron generated when the data is linearly separable is unique. Best perceptron for a data would be the perceptron that relies heaviliy on the last feature of the dataset, as target value is governed by that."
   ]
  },
  {
   "cell_type": "code",
   "execution_count": 3,
   "metadata": {},
   "outputs": [],
   "source": [
    "# Importing required libraries\n",
    "import numpy as np\n",
    "import pandas as pd\n",
    "import matplotlib.pyplot as plt\n",
    "import pprint\n",
    "from tqdm import tqdm\n",
    "\n",
    "%matplotlib inline"
   ]
  },
  {
   "cell_type": "code",
   "execution_count": 4,
   "metadata": {},
   "outputs": [],
   "source": [
    "# Creating X (feature) vectors for the data\n",
    "def create_data(k, m, D, epsilon):\n",
    "    X_k_minus_1 = np.random.normal(0, 1, (m,k-1))\n",
    "    X_k = []\n",
    "    for i in range(m):\n",
    "        temp = np.random.choice(2, 1, p=[0.5,0.5])\n",
    "#         print(temp)\n",
    "        if temp == 1:\n",
    "            X_k.append(epsilon + D)\n",
    "        else:\n",
    "            X_k.append(-(epsilon + D))\n",
    "    X_k = np.asarray(X_k).reshape((1,m))\n",
    "#     print(X_k_minus_1)\n",
    "#     print(X_k)\n",
    "    return np.concatenate((X_k_minus_1, X_k.T), axis=1)\n",
    "\n",
    "# Creating target column for the data\n",
    "def create_y(X, m):\n",
    "    y = []\n",
    "    for i in range(m):\n",
    "        if X[i][-1] > 0:\n",
    "            y.append(1)\n",
    "        else:\n",
    "            y.append(-1)\n",
    "    return y\n",
    "\n",
    "# Combining all the sub data points into a dataframe\n",
    "def create_dataset(k, m, epsilon, D):\n",
    "    X = np.asarray(create_data(k, m, epsilon, D))\n",
    "    y = np.asarray(create_y(X, m)).reshape((m,1))\n",
    "#     print(X.shape,y.shape)\n",
    "\n",
    "    # Training data is an appended version of X and y arrays\n",
    "    data = pd.DataFrame(np.append(X, y, axis=1), columns=[\"X\" + str(i) for i in range(1,k+1)]+['Y'])\n",
    "    return data"
   ]
  },
  {
   "cell_type": "code",
   "execution_count": 8,
   "metadata": {
    "scrolled": false
   },
   "outputs": [
    {
     "data": {
      "text/html": [
       "<div>\n",
       "<style scoped>\n",
       "    .dataframe tbody tr th:only-of-type {\n",
       "        vertical-align: middle;\n",
       "    }\n",
       "\n",
       "    .dataframe tbody tr th {\n",
       "        vertical-align: top;\n",
       "    }\n",
       "\n",
       "    .dataframe thead th {\n",
       "        text-align: right;\n",
       "    }\n",
       "</style>\n",
       "<table border=\"1\" class=\"dataframe\">\n",
       "  <thead>\n",
       "    <tr style=\"text-align: right;\">\n",
       "      <th></th>\n",
       "      <th>X1</th>\n",
       "      <th>X2</th>\n",
       "      <th>X3</th>\n",
       "      <th>X4</th>\n",
       "      <th>X5</th>\n",
       "      <th>X6</th>\n",
       "      <th>X7</th>\n",
       "      <th>X8</th>\n",
       "      <th>X9</th>\n",
       "      <th>X10</th>\n",
       "      <th>...</th>\n",
       "      <th>X12</th>\n",
       "      <th>X13</th>\n",
       "      <th>X14</th>\n",
       "      <th>X15</th>\n",
       "      <th>X16</th>\n",
       "      <th>X17</th>\n",
       "      <th>X18</th>\n",
       "      <th>X19</th>\n",
       "      <th>X20</th>\n",
       "      <th>Y</th>\n",
       "    </tr>\n",
       "  </thead>\n",
       "  <tbody>\n",
       "    <tr>\n",
       "      <th>0</th>\n",
       "      <td>0.003961</td>\n",
       "      <td>0.715359</td>\n",
       "      <td>-1.746548</td>\n",
       "      <td>-0.181279</td>\n",
       "      <td>-0.829595</td>\n",
       "      <td>0.755100</td>\n",
       "      <td>2.474477</td>\n",
       "      <td>1.249610</td>\n",
       "      <td>-0.793316</td>\n",
       "      <td>0.536374</td>\n",
       "      <td>...</td>\n",
       "      <td>-0.160226</td>\n",
       "      <td>0.236944</td>\n",
       "      <td>-1.173245</td>\n",
       "      <td>1.844169</td>\n",
       "      <td>-0.674347</td>\n",
       "      <td>0.496813</td>\n",
       "      <td>1.045342</td>\n",
       "      <td>-0.188963</td>\n",
       "      <td>-2.238101</td>\n",
       "      <td>-1.0</td>\n",
       "    </tr>\n",
       "    <tr>\n",
       "      <th>1</th>\n",
       "      <td>-1.255706</td>\n",
       "      <td>0.183891</td>\n",
       "      <td>-1.391083</td>\n",
       "      <td>-0.742530</td>\n",
       "      <td>-0.188008</td>\n",
       "      <td>-0.566862</td>\n",
       "      <td>1.128056</td>\n",
       "      <td>1.664371</td>\n",
       "      <td>1.126604</td>\n",
       "      <td>-1.534102</td>\n",
       "      <td>...</td>\n",
       "      <td>-1.372957</td>\n",
       "      <td>1.771402</td>\n",
       "      <td>-0.172373</td>\n",
       "      <td>-0.908245</td>\n",
       "      <td>-0.340255</td>\n",
       "      <td>0.783956</td>\n",
       "      <td>-0.104000</td>\n",
       "      <td>2.844880</td>\n",
       "      <td>2.238101</td>\n",
       "      <td>1.0</td>\n",
       "    </tr>\n",
       "    <tr>\n",
       "      <th>2</th>\n",
       "      <td>-0.043391</td>\n",
       "      <td>-0.590466</td>\n",
       "      <td>-0.107458</td>\n",
       "      <td>-1.004000</td>\n",
       "      <td>-0.058754</td>\n",
       "      <td>0.196930</td>\n",
       "      <td>-0.087957</td>\n",
       "      <td>-1.151294</td>\n",
       "      <td>0.578547</td>\n",
       "      <td>0.036010</td>\n",
       "      <td>...</td>\n",
       "      <td>0.011114</td>\n",
       "      <td>0.409290</td>\n",
       "      <td>-1.043538</td>\n",
       "      <td>1.178677</td>\n",
       "      <td>-1.060910</td>\n",
       "      <td>-0.379510</td>\n",
       "      <td>1.039952</td>\n",
       "      <td>-0.866846</td>\n",
       "      <td>-2.238101</td>\n",
       "      <td>-1.0</td>\n",
       "    </tr>\n",
       "    <tr>\n",
       "      <th>3</th>\n",
       "      <td>-0.347869</td>\n",
       "      <td>-0.551839</td>\n",
       "      <td>-0.564489</td>\n",
       "      <td>0.203418</td>\n",
       "      <td>-0.082236</td>\n",
       "      <td>0.329652</td>\n",
       "      <td>-1.425579</td>\n",
       "      <td>2.504075</td>\n",
       "      <td>-0.923663</td>\n",
       "      <td>1.064139</td>\n",
       "      <td>...</td>\n",
       "      <td>-0.803307</td>\n",
       "      <td>-0.299996</td>\n",
       "      <td>0.905298</td>\n",
       "      <td>-0.638352</td>\n",
       "      <td>0.698269</td>\n",
       "      <td>-0.126845</td>\n",
       "      <td>0.193464</td>\n",
       "      <td>-2.452677</td>\n",
       "      <td>-2.238101</td>\n",
       "      <td>-1.0</td>\n",
       "    </tr>\n",
       "    <tr>\n",
       "      <th>4</th>\n",
       "      <td>0.676704</td>\n",
       "      <td>-0.982039</td>\n",
       "      <td>1.315203</td>\n",
       "      <td>1.219287</td>\n",
       "      <td>0.523206</td>\n",
       "      <td>1.887959</td>\n",
       "      <td>0.326123</td>\n",
       "      <td>-0.003376</td>\n",
       "      <td>0.078762</td>\n",
       "      <td>0.125346</td>\n",
       "      <td>...</td>\n",
       "      <td>-0.348469</td>\n",
       "      <td>0.128223</td>\n",
       "      <td>0.797504</td>\n",
       "      <td>1.108418</td>\n",
       "      <td>1.213337</td>\n",
       "      <td>-1.574146</td>\n",
       "      <td>0.541411</td>\n",
       "      <td>-0.891753</td>\n",
       "      <td>2.238101</td>\n",
       "      <td>1.0</td>\n",
       "    </tr>\n",
       "  </tbody>\n",
       "</table>\n",
       "<p>5 rows × 21 columns</p>\n",
       "</div>"
      ],
      "text/plain": [
       "         X1        X2        X3        X4        X5        X6        X7  \\\n",
       "0  0.003961  0.715359 -1.746548 -0.181279 -0.829595  0.755100  2.474477   \n",
       "1 -1.255706  0.183891 -1.391083 -0.742530 -0.188008 -0.566862  1.128056   \n",
       "2 -0.043391 -0.590466 -0.107458 -1.004000 -0.058754  0.196930 -0.087957   \n",
       "3 -0.347869 -0.551839 -0.564489  0.203418 -0.082236  0.329652 -1.425579   \n",
       "4  0.676704 -0.982039  1.315203  1.219287  0.523206  1.887959  0.326123   \n",
       "\n",
       "         X8        X9       X10 ...        X12       X13       X14       X15  \\\n",
       "0  1.249610 -0.793316  0.536374 ...  -0.160226  0.236944 -1.173245  1.844169   \n",
       "1  1.664371  1.126604 -1.534102 ...  -1.372957  1.771402 -0.172373 -0.908245   \n",
       "2 -1.151294  0.578547  0.036010 ...   0.011114  0.409290 -1.043538  1.178677   \n",
       "3  2.504075 -0.923663  1.064139 ...  -0.803307 -0.299996  0.905298 -0.638352   \n",
       "4 -0.003376  0.078762  0.125346 ...  -0.348469  0.128223  0.797504  1.108418   \n",
       "\n",
       "        X16       X17       X18       X19       X20    Y  \n",
       "0 -0.674347  0.496813  1.045342 -0.188963 -2.238101 -1.0  \n",
       "1 -0.340255  0.783956 -0.104000  2.844880  2.238101  1.0  \n",
       "2 -1.060910 -0.379510  1.039952 -0.866846 -2.238101 -1.0  \n",
       "3  0.698269 -0.126845  0.193464 -2.452677 -2.238101 -1.0  \n",
       "4  1.213337 -1.574146  0.541411 -0.891753  2.238101  1.0  \n",
       "\n",
       "[5 rows x 21 columns]"
      ]
     },
     "execution_count": 8,
     "metadata": {},
     "output_type": "execute_result"
    }
   ],
   "source": [
    "# Global Variables - k = 20, m = 100, epsilon = 1\n",
    "k, m, epsilon = 20, 100, 1\n",
    "D = float(np.random.exponential(1, 1))\n",
    "\n",
    "train_data = create_dataset(k, m, epsilon, D)\n",
    "train_data.head()"
   ]
  },
  {
   "cell_type": "markdown",
   "metadata": {},
   "source": [
    "#### 2. We want to consider the problem of learning perceptrons from data sets. Generate a set of data of size m = 100 with k = 20, $\\epsilon$ = 1\n",
    "##### -  Implement the perceptron learning algorithm. This data is separable, so the algorithm will terminate. How does the output perceptron compare to your theoretical answer in the previous problem?"
   ]
  },
  {
   "cell_type": "code",
   "execution_count": 9,
   "metadata": {},
   "outputs": [],
   "source": [
    "# Class for Perceptron\n",
    "class Perceptron():\n",
    "    def __init__(self):\n",
    "        pass\n",
    "    \n",
    "    '''\n",
    "    Calculates the sign of the predicted value\n",
    "    Input: dot product (X.w + b)\n",
    "    Return: Predicted sign of f_x\n",
    "    '''\n",
    "    def sign_function(self, data_vec):\n",
    "        return np.array([1 if val >= 1 else -1 for val in data_vec])[:, np.newaxis]\n",
    "    \n",
    "    '''\n",
    "    Perceptron learning algorithm according to the notes posted\n",
    "    Input: dataset\n",
    "    Return: final weights and biases, along with number of steps for convergence \n",
    "    and upper bound of theoretical convergence\n",
    "    '''\n",
    "    def pla(self, data):\n",
    "        X = np.asarray(data.iloc[:,:-1])\n",
    "        y = np.asarray(data.iloc[:,-1:])\n",
    "        num_samples, num_features = X.shape\n",
    "        \n",
    "#         Initialize weight and bias parameters\n",
    "        self.w = np.zeros(shape=(num_features, 1))\n",
    "        self.bias = 0\n",
    "        \n",
    "        count_till_solution = 0\n",
    "        f_x = [0]*num_samples\n",
    "        i = 0\n",
    "        theoretical_termination = []\n",
    "        while True:\n",
    "            mismatch = 0\n",
    "            for i in range(num_samples):\n",
    "#                 Calculate the mapping function f(x)\n",
    "                f_x[i] = float(self.sign_function(np.dot(X[i].reshape((num_features, 1)).T, self.w) + self.bias))\n",
    "\n",
    "#                 Compute weights if f_x != y\n",
    "                if float(f_x[i]) != float(y[i]):\n",
    "                    mismatch += 1\n",
    "                    self.w += np.dot(X[i].reshape((num_features, 1)), y[i].reshape((1,1)))\n",
    "                    self.bias += y[i]\n",
    "                    \n",
    "            count_till_solution += 1\n",
    "            min_margin = 99999\n",
    "            for i in range(num_samples):\n",
    "                margin = abs(np.dot(self.w.T, X[i].reshape(-1,1))/(np.linalg.norm(self.w)))\n",
    "                if margin < min_margin:\n",
    "                    min_margin = margin\n",
    "                \n",
    "            theoretical_termination.append(int(1/(min_margin**2)))\n",
    "            \n",
    "            f_x = np.asarray(f_x).reshape((num_samples, 1))\n",
    "            i += 1\n",
    "            if (np.array_equal(y, f_x)) or (mismatch >= 0.3*num_samples and count_till_solution >= 5000):\n",
    "                break\n",
    "                    \n",
    "        return self.w, self.bias, count_till_solution, max(theoretical_termination)\n",
    "    \n",
    "    '''\n",
    "    Predicts the target value based on a data vector\n",
    "    Input - a single row of dataset or a single X vector\n",
    "    Return - predicted value\n",
    "    '''\n",
    "    def predict(self, instance_data):\n",
    "        instance_data = np.asarray(instance_data)\n",
    "        prediction = self.sign_function(np.dot(self.w.T, instance_data.reshape((len(instance_data),1))) + self.bias)\n",
    "        return prediction   \n",
    "    \n",
    "    '''\n",
    "    Predicts the target value and then calculates error based on the predictions\n",
    "    Input - dataset, decision tree built\n",
    "    Return - error\n",
    "    '''\n",
    "    def fit(self, data):\n",
    "        error = 0\n",
    "        for i in range(len(data)):\n",
    "            prediction = self.predict(data.iloc[i][:-1])\n",
    "            if prediction != data.iloc[i][-1]:\n",
    "                print(\"Not equal\")\n",
    "                error += 1\n",
    "        return error/len(data) "
   ]
  },
  {
   "cell_type": "code",
   "execution_count": 10,
   "metadata": {
    "scrolled": false
   },
   "outputs": [
    {
     "name": "stdout",
     "output_type": "stream",
     "text": [
      "Final weights:\n",
      " [[-1.52874374]\n",
      " [-0.95692616]\n",
      " [ 0.2175046 ]\n",
      " [-0.24172105]\n",
      " [-0.69067186]\n",
      " [ 1.30426699]\n",
      " [-0.52795995]\n",
      " [ 1.17166464]\n",
      " [ 1.65988943]\n",
      " [-0.9546229 ]\n",
      " [ 1.92738242]\n",
      " [ 0.09576421]\n",
      " [ 1.60728812]\n",
      " [ 0.42904243]\n",
      " [-0.16280013]\n",
      " [ 1.85345704]\n",
      " [-0.60308505]\n",
      " [-2.03354627]\n",
      " [ 0.5129562 ]\n",
      " [ 6.71430226]]\n",
      "Final bias:\n",
      " [3.]\n",
      "Number of steps till convergence: \n",
      " 2\n",
      "Theoretical number of steps till convergence can be found for linear separation:  15\n"
     ]
    }
   ],
   "source": [
    "perceptron = Perceptron()\n",
    "final_w, final_b, num_steps, theoretical_steps = perceptron.pla(train_data)\n",
    "print(\"Final weights:\\n\",final_w)\n",
    "print(\"Final bias:\\n\", final_b)\n",
    "print(\"Number of steps till convergence: \\n\", num_steps)\n",
    "print(\"Theoretical number of steps till convergence can be found for linear separation: \", theoretical_steps)"
   ]
  },
  {
   "cell_type": "code",
   "execution_count": 11,
   "metadata": {},
   "outputs": [
    {
     "data": {
      "text/plain": [
       "0.0"
      ]
     },
     "execution_count": 11,
     "metadata": {},
     "output_type": "execute_result"
    }
   ],
   "source": [
    "error = perceptron.fit(train_data)\n",
    "error"
   ]
  },
  {
   "cell_type": "code",
   "execution_count": 12,
   "metadata": {},
   "outputs": [
    {
     "data": {
      "image/png": "[encoded data removed]",
      "text/plain": [
       "<Figure size 432x288 with 1 Axes>"
      ]
     },
     "metadata": {
      "needs_background": "light"
     },
     "output_type": "display_data"
    }
   ],
   "source": [
    "plt.plot(np.linspace(0, 20, 20), list(final_w))\n",
    "plt.title(\"Weight vector by feature\")\n",
    "plt.xlabel(\"Feature number\")\n",
    "plt.ylabel(\"Weights\")\n",
    "plt.show()"
   ]
  },
  {
   "cell_type": "markdown",
   "metadata": {},
   "source": [
    "**Solution:** On implementing the perceptron learning algorithm on the dataset provided, we see that it is similar to our theoretical answer. The last feature has highest weight associated to it (as can be seen from the graph generated above). This is so because the data is created such that the target value depends solely on the last feature value."
   ]
  },
  {
   "cell_type": "markdown",
   "metadata": {},
   "source": [
    "#### 3. For any given data set, there may be multiple separators with multiple margins - but for our data set, we can effectively control the size of the margin with the parameter $\\epsilon$ - the bigger this value, the bigger the margin of our separator.\n",
    "#### – For m = 100, k = 20, generate a data set for a given value of $\\epsilon$ and run the learning algorithm to completion. Plot, as a function of $\\epsilon$ ∈ [0, 1], the average or typical number of steps the algorithm needs to terminate. Characterize the dependence."
   ]
  },
  {
   "cell_type": "code",
   "execution_count": 16,
   "metadata": {},
   "outputs": [],
   "source": [
    "def varied_margin():\n",
    "    k, m = 20, 100\n",
    "    epsilon = list(np.arange(0, 1.05, 0.02))\n",
    "    avg_steps = []\n",
    "    for i in tqdm(range(len(epsilon))):\n",
    "        steps = []\n",
    "        for j in range(100):\n",
    "            train_data = create_dataset(k, m, epsilon[i], D)\n",
    "            perceptron = Perceptron()\n",
    "            final_w, final_b, num_steps, theoretical_steps = perceptron.pla(train_data)\n",
    "            steps.append(num_steps)\n",
    "          \n",
    "        avg_steps.append(sum(steps)/len(steps))\n",
    "        \n",
    "    plt.plot(epsilon, avg_steps)\n",
    "    plt.title(\"Number of steps w.r.t. margin\")\n",
    "    plt.xlabel(\"Margin value\")\n",
    "    plt.ylabel(\"#Steps\")\n",
    "    plt.show()"
   ]
  },
  {
   "cell_type": "code",
   "execution_count": 17,
   "metadata": {
    "scrolled": true
   },
   "outputs": [
    {
     "name": "stderr",
     "output_type": "stream",
     "text": [
      "100%|██████████| 53/53 [00:43<00:00,  1.25it/s]\n"
     ]
    },
    {
     "data": {
      "image/png": "[encoded data removed]",
      "text/plain": [
       "<Figure size 432x288 with 1 Axes>"
      ]
     },
     "metadata": {
      "needs_background": "light"
     },
     "output_type": "display_data"
    }
   ],
   "source": [
    "varied_margin()"
   ]
  },
  {
   "cell_type": "markdown",
   "metadata": {},
   "source": [
    "**Solution:** On plotting average number of steps needed for termination of a linearly separable data w.r.t. $\\epsilon$, we observe that bigger the margin, lesser the number of steps are needed for the perceptron to terminate. This dependence can be proved by the Perceptron Convergence Theorem - If data is linearly separable, perceptron algorithm will find a linear classifier that classifies all data correctly, whose convergence is inversely proportional to the square of margin.\n",
    "\n",
    "This means as the margin increases, the convergence steps decrease."
   ]
  },
  {
   "cell_type": "markdown",
   "metadata": {},
   "source": [
    "#### 4. One of the nice properties of the perceptron learning algorithm (and perceptrons generally) is that learning the weight vector w and bias value b is typically independent of the ambient dimension. To see this, consider the following experiment:\n",
    "#### – Fixing m = 100, $\\epsilon$ = 1, consider generating a data set on k features and running the learning algorithm on it. Plot, as a function k (for k = 2, . . . , 40), the typical number of steps to learn a perceptron on a data set of this size. How does the number of steps vary with k? Repeat for m = 1000."
   ]
  },
  {
   "cell_type": "code",
   "execution_count": 18,
   "metadata": {},
   "outputs": [],
   "source": [
    "def varied_features(m):\n",
    "    epsilon = 1\n",
    "    D = float(np.random.exponential(1, 1))\n",
    "    k = list(np.arange(2, 40, 1))\n",
    "    steps = []\n",
    "    for i in range(len(k)):\n",
    "        train_data = create_dataset(k[i], m, epsilon, D)\n",
    "        perceptron = Perceptron()\n",
    "        final_w, final_b, num_steps, theoretical_steps = perceptron.pla(train_data)\n",
    "        steps.append(num_steps)\n",
    "        \n",
    "    plt.plot(k, steps)\n",
    "    plt.title(\"Number of steps w.r.t. features\")\n",
    "    plt.xlabel(\"#Features\")\n",
    "    plt.ylabel(\"#Steps\")\n",
    "    plt.show()"
   ]
  },
  {
   "cell_type": "code",
   "execution_count": 27,
   "metadata": {},
   "outputs": [
    {
     "data": {
      "image/png": "[encoded data removed]",
      "text/plain": [
       "<Figure size 432x288 with 1 Axes>"
      ]
     },
     "metadata": {
      "needs_background": "light"
     },
     "output_type": "display_data"
    }
   ],
   "source": [
    "varied_features(100)"
   ]
  },
  {
   "cell_type": "code",
   "execution_count": 42,
   "metadata": {
    "scrolled": true
   },
   "outputs": [
    {
     "data": {
      "image/png": "[encoded data removed]",
      "text/plain": [
       "<Figure size 432x288 with 1 Axes>"
      ]
     },
     "metadata": {
      "needs_background": "light"
     },
     "output_type": "display_data"
    }
   ],
   "source": [
    "varied_features(1000)"
   ]
  },
  {
   "cell_type": "markdown",
   "metadata": {},
   "source": [
    "**Solution:** The number of steps needed for convergence of a linearly separable data through perceptrons is usually independent of number of features the data has. This is shown through the above experiment too. For this case, I see no change in number of steps, but some different runs have shown very random change in number of steps, that also by just 1 step more or less. We cannot establish a trend of convergence w.r.t. the number of features."
   ]
  },
  {
   "cell_type": "markdown",
   "metadata": {},
   "source": [
    "#### 5. As shown in class, the perceptron learning algorithm always terminates in finite time - if there is a separator. Consider generating non-separable data in the following way: generate each $X_1, . . . , X_k$ as i.i.d. standard normals N(0, 1). Define Y by\n",
    "\n",
    "$$Y = 1 if \\sum_{i=1}^k{X_i^2} \\ge k $$\n",
    "$$Y = -1 else$$"
   ]
  },
  {
   "cell_type": "code",
   "execution_count": 93,
   "metadata": {},
   "outputs": [],
   "source": [
    "def create_non_separable_data(k, m):\n",
    "    X = np.random.normal(0, 1, (m,k))\n",
    "    y = []\n",
    "    for i in range(m):\n",
    "        total = 0\n",
    "        for j in range(k):\n",
    "            total += X[i][j]**2\n",
    "        \n",
    "        if total >= k:\n",
    "            y.append(1)\n",
    "        else:\n",
    "            y.append(-1)\n",
    "            \n",
    "    return X, y\n",
    "\n",
    "def create_non_separable_dataset(k, m):\n",
    "    X, y = create_non_separable_data(k, m)\n",
    "    X = np.asarray(X)\n",
    "    y = np.asarray(y).reshape((m,1))\n",
    "    # Training data is an appended version of X and y arrays\n",
    "    data = pd.DataFrame(np.append(X, y, axis=1), columns=[\"X\" + str(i) for i in range(1,k+1)]+['Y'])\n",
    "    return data"
   ]
  },
  {
   "cell_type": "code",
   "execution_count": 94,
   "metadata": {},
   "outputs": [
    {
     "data": {
      "text/html": [
       "<div>\n",
       "<style scoped>\n",
       "    .dataframe tbody tr th:only-of-type {\n",
       "        vertical-align: middle;\n",
       "    }\n",
       "\n",
       "    .dataframe tbody tr th {\n",
       "        vertical-align: top;\n",
       "    }\n",
       "\n",
       "    .dataframe thead th {\n",
       "        text-align: right;\n",
       "    }\n",
       "</style>\n",
       "<table border=\"1\" class=\"dataframe\">\n",
       "  <thead>\n",
       "    <tr style=\"text-align: right;\">\n",
       "      <th></th>\n",
       "      <th>X1</th>\n",
       "      <th>X2</th>\n",
       "      <th>Y</th>\n",
       "    </tr>\n",
       "  </thead>\n",
       "  <tbody>\n",
       "    <tr>\n",
       "      <th>0</th>\n",
       "      <td>0.475437</td>\n",
       "      <td>-0.333426</td>\n",
       "      <td>-1.0</td>\n",
       "    </tr>\n",
       "    <tr>\n",
       "      <th>1</th>\n",
       "      <td>-1.860030</td>\n",
       "      <td>-0.038617</td>\n",
       "      <td>1.0</td>\n",
       "    </tr>\n",
       "    <tr>\n",
       "      <th>2</th>\n",
       "      <td>0.130696</td>\n",
       "      <td>-1.140265</td>\n",
       "      <td>-1.0</td>\n",
       "    </tr>\n",
       "    <tr>\n",
       "      <th>3</th>\n",
       "      <td>-0.595984</td>\n",
       "      <td>-0.566819</td>\n",
       "      <td>-1.0</td>\n",
       "    </tr>\n",
       "    <tr>\n",
       "      <th>4</th>\n",
       "      <td>-0.144487</td>\n",
       "      <td>0.682837</td>\n",
       "      <td>-1.0</td>\n",
       "    </tr>\n",
       "  </tbody>\n",
       "</table>\n",
       "</div>"
      ],
      "text/plain": [
       "         X1        X2    Y\n",
       "0  0.475437 -0.333426 -1.0\n",
       "1 -1.860030 -0.038617  1.0\n",
       "2  0.130696 -1.140265 -1.0\n",
       "3 -0.595984 -0.566819 -1.0\n",
       "4 -0.144487  0.682837 -1.0"
      ]
     },
     "execution_count": 94,
     "metadata": {},
     "output_type": "execute_result"
    }
   ],
   "source": [
    "k, m = 2, 100\n",
    "train_ns_data = create_non_separable_dataset(k, m)\n",
    "train_ns_data.head()"
   ]
  },
  {
   "cell_type": "code",
   "execution_count": 95,
   "metadata": {},
   "outputs": [],
   "source": [
    "perceptron2 = Perceptron()\n",
    "final_w2, final_b2, num_steps2, theoretical_steps = perceptron2.pla(train_ns_data)"
   ]
  },
  {
   "cell_type": "code",
   "execution_count": 136,
   "metadata": {
    "scrolled": true
   },
   "outputs": [
    {
     "data": {
      "image/png": "[encoded data removed]",
      "text/plain": [
       "<Figure size 432x288 with 1 Axes>"
      ]
     },
     "metadata": {
      "needs_background": "light"
     },
     "output_type": "display_data"
    }
   ],
   "source": [
    "plt.scatter(X1, X2, c=y2)\n",
    "plt.title(\"Dataset\")\n",
    "plt.xlabel(\"First feature\")\n",
    "plt.ylabel(\"Second feature\")\n",
    "plt.show()"
   ]
  },
  {
   "cell_type": "markdown",
   "metadata": {},
   "source": [
    "The data represented above is the data generated from the new rules of creating a non separable data. As can be seen, this data cannot be linearly separated through Perceptrons. A kernel method has to be applied to this data to find a separable hyper-plane. "
   ]
  },
  {
   "cell_type": "code",
   "execution_count": 158,
   "metadata": {},
   "outputs": [],
   "source": [
    "def plot_hyperplane(x1, x2, y, w, b):\n",
    "    slope = -w[0]/w[1]\n",
    "    intercept = -b/w[1]\n",
    "    x_hyperplane = np.linspace(-3,3,20)\n",
    "    y_hyperplane = slope*x_hyperplane + intercept\n",
    "    plt.scatter(x1, x2, c=y)\n",
    "    plt.plot(x_hyperplane, y_hyperplane, 'b-')\n",
    "    plt.title(\"Dataset with fitted hyperplane\")\n",
    "    plt.xlabel(\"First feature\")\n",
    "    plt.ylabel(\"Second feature\")\n",
    "    plt.show()"
   ]
  },
  {
   "cell_type": "code",
   "execution_count": 159,
   "metadata": {
    "scrolled": true
   },
   "outputs": [
    {
     "data": {
      "image/png": "[encoded data removed]",
      "text/plain": [
       "<Figure size 432x288 with 1 Axes>"
      ]
     },
     "metadata": {
      "needs_background": "light"
     },
     "output_type": "display_data"
    }
   ],
   "source": [
    "X2_1 = train_ns_data.iloc[:,:-2]\n",
    "X2_2 = train_ns_data.iloc[:,1:-1]\n",
    "y2 = train_ns_data.iloc[:,-1:]\n",
    "plot_hyperplane(X2_1, X2_2, y2, final_w2, final_b2)"
   ]
  },
  {
   "cell_type": "markdown",
   "metadata": {},
   "source": [
    "**Solution:** For a linearly non-separable data, perceptron is not a good algorithm to use, because it will never converge. Theoretically, it is possible to find an upper bound on number of steps required to converge (if the data is linearly separable). But, it cannot be put into practice easily, as to compute that, we first need to find the weight vector. \n",
    "\n",
    "Another thing to note is that, even if there is a convergence, the number of steps needed might be too large, which might bring the problem of computation power.\n",
    "\n",
    "For this assignment, I have established a heurisitc that if the mismatch % is approximately 30% of the total number of samples and the iterations have been more than 10000, then that means that possibly the data is not separable linearly. My reasoning for this is very straight forward, if 30% of data is still mismatched, it is likely that the mismatch will continue to happen for long, which is not computationally feasible."
   ]
  }
 ],
 "metadata": {
  "kernelspec": {
   "display_name": "Python 3",
   "language": "python",
   "name": "python3"
  },
  "language_info": {
   "codemirror_mode": {
    "name": "ipython",
    "version": 3
   },
   "file_extension": ".py",
   "mimetype": "text/x-python",
   "name": "python",
   "nbconvert_exporter": "python",
   "pygments_lexer": "ipython3",
   "version": "3.7.1"
  }
 },
 "nbformat": 4,
 "nbformat_minor": 2
}
